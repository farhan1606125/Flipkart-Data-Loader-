{
  "nbformat": 4,
  "nbformat_minor": 0,
  "metadata": {
    "colab": {
      "name": "Flip_Data_Loader.ipynb",
      "provenance": [],
      "collapsed_sections": [],
      "authorship_tag": "ABX9TyOAFIa5Q75dE2FVTal2OSCM",
      "include_colab_link": true
    },
    "kernelspec": {
      "name": "python3",
      "display_name": "Python 3"
    }
  },
  "cells": [
    {
      "cell_type": "markdown",
      "metadata": {
        "id": "view-in-github",
        "colab_type": "text"
      },
      "source": [
        "<a href=\"https://colab.research.google.com/github/farhan1606125/Flipkart-Data-Loader-/blob/main/Flip_Data_Loader.ipynb\" target=\"_parent\"><img src=\"https://colab.research.google.com/assets/colab-badge.svg\" alt=\"Open In Colab\"/></a>"
      ]
    },
    {
      "cell_type": "code",
      "metadata": {
        "id": "YA4ZFcFewkbq"
      },
      "source": [
        "import pandas as pd\r\n",
        "import numpy as np\r\n"
      ],
      "execution_count": null,
      "outputs": []
    },
    {
      "cell_type": "code",
      "metadata": {
        "colab": {
          "base_uri": "https://localhost:8080/"
        },
        "id": "X3rFheBCwsr4",
        "outputId": "157244c9-bc1a-49dd-81fa-031a17412383"
      },
      "source": [
        "from google.colab import drive\r\n",
        "drive.mount('/content/drive/')"
      ],
      "execution_count": null,
      "outputs": [
        {
          "output_type": "stream",
          "text": [
            "Mounted at /content/drive/\n"
          ],
          "name": "stdout"
        }
      ]
    },
    {
      "cell_type": "code",
      "metadata": {
        "id": "HddALpsEw1R7"
      },
      "source": [
        "data=pd.read_csv('/content/drive/My Drive/flipkart_com-ecommerce_sample.csv')"
      ],
      "execution_count": null,
      "outputs": []
    },
    {
      "cell_type": "code",
      "metadata": {
        "id": "fdCH4hqX5MKh"
      },
      "source": [
        "data_img=data[['product_name','image']]"
      ],
      "execution_count": null,
      "outputs": []
    },
    {
      "cell_type": "code",
      "metadata": {
        "id": "aAdTfn-95iWI"
      },
      "source": [
        "data_img_1=data_img.image"
      ],
      "execution_count": null,
      "outputs": []
    },
    {
      "cell_type": "code",
      "metadata": {
        "id": "UYh2wJoP7Ip5"
      },
      "source": [
        "\r\n",
        "data_img_1.to_csv('/content/drive/My Drive/Flip_csv.csv')"
      ],
      "execution_count": null,
      "outputs": []
    },
    {
      "cell_type": "code",
      "metadata": {
        "colab": {
          "base_uri": "https://localhost:8080/"
        },
        "id": "PgOx_dH_D3UK",
        "outputId": "c0ca3b1a-6cb5-483f-afd7-fb8630eb5621"
      },
      "source": [
        "!pip install imgscrape"
      ],
      "execution_count": null,
      "outputs": [
        {
          "output_type": "stream",
          "text": [
            "Collecting imgscrape\n",
            "  Downloading https://files.pythonhosted.org/packages/bc/e4/82190c147acbad81b1f21316604ebdfd4a20a7a64ef92df0247724d3d285/imgscrape-0.1.1.tar.gz\n",
            "Requirement already satisfied: pillow in /usr/local/lib/python3.6/dist-packages (from imgscrape) (7.0.0)\n",
            "Collecting selenium\n",
            "\u001b[?25l  Downloading https://files.pythonhosted.org/packages/80/d6/4294f0b4bce4de0abf13e17190289f9d0613b0a44e5dd6a7f5ca98459853/selenium-3.141.0-py2.py3-none-any.whl (904kB)\n",
            "\u001b[K     |████████████████████████████████| 911kB 5.5MB/s \n",
            "\u001b[?25hRequirement already satisfied: urllib3 in /usr/local/lib/python3.6/dist-packages (from selenium->imgscrape) (1.24.3)\n",
            "Building wheels for collected packages: imgscrape\n",
            "  Building wheel for imgscrape (setup.py) ... \u001b[?25l\u001b[?25hdone\n",
            "  Created wheel for imgscrape: filename=imgscrape-0.1.1-cp36-none-any.whl size=3129 sha256=5d33f1c3defc7321dd85f3abfbb35c3584d07ae64449deafaddc3d32ef518a71\n",
            "  Stored in directory: /root/.cache/pip/wheels/fe/d9/45/3377aadc036274a8e979093f727e45b548c648beab301a5836\n",
            "Successfully built imgscrape\n",
            "Installing collected packages: selenium, imgscrape\n",
            "Successfully installed imgscrape-0.1.1 selenium-3.141.0\n"
          ],
          "name": "stdout"
        }
      ]
    },
    {
      "cell_type": "code",
      "metadata": {
        "colab": {
          "base_uri": "https://localhost:8080/"
        },
        "id": "V8-Zbsi6esGb",
        "outputId": "4892ee1f-5995-42b7-af2a-cd4b79c55262"
      },
      "source": [
        "!conda install -c anaconda openssl"
      ],
      "execution_count": null,
      "outputs": [
        {
          "output_type": "stream",
          "text": [
            "/bin/bash: conda: command not found\n"
          ],
          "name": "stdout"
        }
      ]
    },
    {
      "cell_type": "code",
      "metadata": {
        "id": "hw5lULp2fJSW"
      },
      "source": [
        "\r\n",
        "\r\n",
        "from google.colab import files as FILE\r\n",
        "import os\r\n",
        "\r\n"
      ],
      "execution_count": null,
      "outputs": []
    },
    {
      "cell_type": "code",
      "metadata": {
        "colab": {
          "base_uri": "https://localhost:8080/",
          "height": 1000
        },
        "id": "SQk5iRv32n-r",
        "outputId": "76914314-3b41-49b7-b442-39f5b1c85c9f"
      },
      "source": [
        "import pandas as pd\r\n",
        "import urllib.request\r\n",
        "import requests\r\n",
        "import time\r\n",
        "\r\n",
        "def url_to_jpg(i,url,file_path):\r\n",
        "  filename='{}.jpg'.format(i)\r\n",
        "  fullpath='{}{}'.format(file_path,filename)\r\n",
        "  urllib.request.urlretrieve(url,fullpath)\r\n",
        "\r\n",
        "  #print('{} saved.'.format(filename))\r\n",
        "\r\n",
        "\r\n",
        "\r\n",
        "\r\n",
        "\r\n",
        "\r\n",
        "\r\n",
        "\r\n",
        "\r\n",
        "FILENAME=\"/content/drive/My Drive/Flip_csv.csv\"\r\n",
        "filepath=\"/content/drive/My Drive/Flipk/\"\r\n",
        "\r\n",
        "\r\n",
        "\r\n",
        "\r\n",
        "\r\n",
        "import csv\r\n",
        "from urllib.request import urlopen\r\n",
        "from bs4 import BeautifulSoup\r\n",
        "\r\n",
        "contents = []\r\n",
        "with open(\"/content/drive/My Drive/Flip_csv.csv\",'r') as csvf: # Open file in read mode\r\n",
        "    urls = csv.reader(csvf)\r\n",
        "    for url in urls:\r\n",
        "        contents.append(url) # Add each url to list contents\r\n",
        "i=0\r\n",
        "for url in contents:\r\n",
        "  x=url[1].split(',')\r\n",
        "  y=url[0]\r\n",
        "  x.pop(0)\r\n",
        "\r\n",
        "\r\n",
        "  \r\n",
        "  for urls in x:\r\n",
        "    \r\n",
        "    print(urls)\r\n",
        "    type(urls)\r\n",
        "    urls=urls.replace('\"','')\r\n",
        "    result = requests.get(urls, stream=True)\r\n",
        "\r\n",
        "    if result.status_code == 200:\r\n",
        "\r\n",
        "      image = result.raw.read()\r\n",
        "      open('/content/drive/My Drive/Flipk/images {}.jpeg'.format(i),\"wb\").write(image)\r\n",
        "    \r\n",
        "#os.remove('image_name.jpg') # to save up space\r\n",
        " \r\n",
        "    \r\n",
        "    #url_to_jpg(i,urls,filepath)\r\n",
        "    i=i+1\r\n",
        "    #print(i)\r\n",
        "\r\n",
        "    #time.sleep(5)\r\n",
        "\r\n",
        "    #if i==2:\r\n",
        "      #break\r\n",
        "  #break\r\n",
        "    \r\n",
        "    \r\n",
        "    # Parse through each url in the list.\r\n",
        "    #url_to_jpg(url,url[0].read(),filepath)\r\n"
      ],
      "execution_count": null,
      "outputs": [
        {
          "output_type": "stream",
          "text": [
            " \"http://img5a.flixcart.com/image/short/p/j/z/altght4p-26-alisha-38-original-imaeh2d5kbufss6n.jpeg\"\n",
            " \"http://img5a.flixcart.com/image/short/p/j/z/altght4p-26-alisha-38-original-imaeh2d5npdybzyt.jpeg\"\n",
            " \"http://img5a.flixcart.com/image/short/z/j/7/altght-7-alisha-38-original-imaeh2d5jsz2ghd6.jpeg\"]\n",
            " \"http://img6a.flixcart.com/image/sofa-bed/j/f/y/fhd112-double-foam-fabhomedecor-leatherette-black-leatherette-original-imaeh3gemjjcg9ta.jpeg\"\n",
            " \"http://img6a.flixcart.com/image/sofa-bed/j/f/y/fhd112-double-foam-fabhomedecor-leatherette-black-leatherette-original-imaeh3genfxkqvuv.jpeg\"\n",
            " \"http://img5a.flixcart.com/image/sofa-bed/j/f/y/fhd112-double-foam-fabhomedecor-leatherette-black-leatherette-original-imaeh3ge2sfeczef.jpeg\"\n",
            " \"http://img5a.flixcart.com/image/sofa-bed/j/f/y/fhd112-double-foam-fabhomedecor-leatherette-black-leatherette-original-imaeh3geuy7d74g2.jpeg\"\n",
            " \"http://img5a.flixcart.com/image/sofa-bed/j/f/y/fhd112-double-foam-fabhomedecor-leatherette-black-leatherette-original-imaeh3gerfhdxzwj.jpeg\"]\n",
            " \"http://img6a.flixcart.com/image/shoe/7/z/z/red-as-454-aw-11-original-imaeebfwsdf6jdf6.jpeg\"\n",
            " \"http://img5a.flixcart.com/image/shoe/7/z/z/red-as-454-aw-11-original-imaeebfwt8zqc5cy.jpeg\"\n",
            " \"http://img5a.flixcart.com/image/shoe/7/z/z/red-as-454-aw-11-original-imaeebfwhz5f8v6m.jpeg\"\n",
            " \"http://img6a.flixcart.com/image/shoe/7/z/z/red-as-454-aw-11-original-imaeeducshzc6pbz.jpeg\"\n",
            " \"http://img6a.flixcart.com/image/shoe/7/z/z/red-as-454-aw-11-original-imaeebfw2veeuz8s.jpeg\"]\n",
            " \"http://img6a.flixcart.com/image/short/p/h/t/altht-3p-1-alisha-34-original-imaeh2d5jxvh4msy.jpeg\"\n",
            " \"http://img6a.flixcart.com/image/short/p/h/t/altht-3p-1-alisha-34-original-imaeh2d5yz9fcjxe.jpeg\"\n",
            " \"http://img6a.flixcart.com/image/short/p/h/t/altht-3p-1-alisha-34-original-imaeh2d5fa94gzuy.jpeg\"\n",
            " \"http://img6a.flixcart.com/image/short/x/5/f/altght-2-alisha-36-original-imaeh2d5xnueazgz.jpeg\"]\n",
            " \"http://img5a.flixcart.com/image/pet-shampoo/r/j/5/sh-df-14-sicons-500-original-imaeh3hfvav85tva.jpeg\"]\n",
            " \"http://img5a.flixcart.com/image/paper-weight/u/e/3/eternal-gandhi-gandhi-paper-weight-mark-v-original-imaeb8adyf3xmqhf.jpeg\"]\n",
            " \"http://img5a.flixcart.com/image/short/z/j/7/altght-7-alisha-38-original-imaeh2d5jsz2ghd6.jpeg\"\n",
            " \"http://img5a.flixcart.com/image/short/p/j/z/altght4p-26-alisha-38-original-imaeh2d5kbufss6n.jpeg\"\n",
            " \"http://img5a.flixcart.com/image/short/p/j/z/altght4p-26-alisha-38-original-imaeh2d5npdybzyt.jpeg\"\n",
            " \"http://img6a.flixcart.com/image/short/x/5/f/altght-2-alisha-36-original-imaeh2d5xnueazgz.jpeg\"]\n",
            " \"http://img6a.flixcart.com/image/sofa-bed/e/x/n/fhd107-double-foam-fabhomedecor-brown-brown-original-imaeh3geypmfrc5a.jpeg\"\n",
            " \"http://img6a.flixcart.com/image/sofa-bed/e/x/n/fhd107-double-foam-fabhomedecor-brown-brown-original-imaeh3geadxsdz2f.jpeg\"\n",
            " \"http://img5a.flixcart.com/image/sofa-bed/e/x/n/fhd107-double-foam-fabhomedecor-brown-brown-original-imaeh3gehnzcjfzv.jpeg\"]\n",
            " \"http://img6a.flixcart.com/image/shoe/b/p/n/pink-200db202-dilli-bazaaar-10-original-imaeh2zzxp8s7gru.jpeg\"\n",
            " \"http://img6a.flixcart.com/image/shoe/s/c/k/pink-200db202-dilli-bazaaar-9-original-imaeh2zzv2hzkepv.jpeg\"\n",
            " \"http://img5a.flixcart.com/image/shoe/b/p/n/pink-200db202-dilli-bazaaar-10-original-imaeh2zztckv2tqj.jpeg\"]\n",
            " \"http://img5a.flixcart.com/image/short/z/h/b/altght-9-alisha-36-original-imaeh2d5khxcdggw.jpeg\"\n",
            " \"http://img6a.flixcart.com/image/short/z/h/b/altght-9-alisha-36-original-imaeh2d5yj4cnjtz.jpeg\"\n",
            " \"http://img6a.flixcart.com/image/short/z/h/b/altght-9-alisha-36-original-imaeh2d55eacbgwg.jpeg\"\n",
            " \"http://img6a.flixcart.com/image/short/p/h/t/altht-3p-1-alisha-34-original-imaeh2d5jxvh4msy.jpeg\"]\n",
            " \"http://img6a.flixcart.com/image/shoe/s/g/m/black-r998-22-ladela-38-original-imaega8phqh6tf4e.jpeg\"\n",
            " \"http://img6a.flixcart.com/image/shoe/s/g/m/black-r998-22-ladela-38-original-imaeh3w9sc3nhuwa.jpeg\"\n",
            " \"http://img5a.flixcart.com/image/shoe/s/g/m/black-r998-22-ladela-38-original-imaeh3w99nazagyp.jpeg\"\n",
            " \"http://img5a.flixcart.com/image/shoe/s/g/m/black-r998-22-ladela-38-original-imaeh3w9pyfvmqap.jpeg\"\n",
            " \"http://img5a.flixcart.com/image/shoe/s/g/m/black-r998-22-ladela-38-original-imaeh3w9cycrgdgt.jpeg\"]\n",
            " \"http://img5a.flixcart.com/image/swimsuit/g/g/x/carrel-sw-3091-black-white01-carrel-xl-original-imaehyzmmvg6b7uy.jpeg\"\n",
            " \"http://img6a.flixcart.com/image/swimsuit/5/v/9/carrel-sw-3091-black-white01-carrel-4xl-original-imaehyzmvffqbdde.jpeg\"\n",
            " \"http://img6a.flixcart.com/image/swimsuit/5/v/9/carrel-sw-3091-black-white01-carrel-4xl-original-imaehyzmgnqtwjpg.jpeg\"\n",
            " \"http://img5a.flixcart.com/image/swimsuit/5/v/9/carrel-sw-3091-black-white01-carrel-4xl-original-imaehyzmb4smucms.jpeg\"]\n",
            " \"http://img6a.flixcart.com/image/pet-shampoo/c/c/d/sh-df-07-sicons-200-original-imaeh3kvn25fznjt.jpeg\"]\n",
            " \"http://img6a.flixcart.com/image/short/p/h/t/altht-3p-1-alisha-34-original-imaeh2d5yz9fcjxe.jpeg\"\n",
            " \"http://img6a.flixcart.com/image/short/p/h/t/altht-3p-1-alisha-34-original-imaeh2d5fa94gzuy.jpeg\"\n",
            " \"http://img6a.flixcart.com/image/short/p/h/t/altht-3p-1-alisha-34-original-imaeh2d5jxvh4msy.jpeg\"]\n",
            " \"http://img6a.flixcart.com/image/bottle/j/m/m/av004bgr-freelance-350-vacuum-bottles-original-imaegykdk6ytzrzz.jpeg\"\n",
            " \"http://img6a.flixcart.com/image/bottle/j/m/m/av004bgr-freelance-350-vacuum-bottles-original-imaegykd57fmyhqa.jpeg\"\n",
            " \"http://img5a.flixcart.com/image/bottle/j/m/m/av004bgr-freelance-350-vacuum-bottles-original-imaegykd6yfj5wrx.jpeg\"\n",
            " \"http://img6a.flixcart.com/image/bottle/j/m/m/av004bgr-freelance-350-vacuum-bottles-original-imaegykdgxzzetjw.jpeg\"\n",
            " \"http://img5a.flixcart.com/image/bottle/j/m/m/av004bgr-freelance-350-vacuum-bottles-original-imaegykdy3humv3v.jpeg\"]\n",
            " \"http://img6a.flixcart.com/image/short/p/h/t/altht-3p-1-alisha-34-original-imaeh2d5jxvh4msy.jpeg\"\n",
            " \"http://img6a.flixcart.com/image/short/p/h/t/altht-3p-1-alisha-34-original-imaeh2d5yz9fcjxe.jpeg\"\n",
            " \"http://img6a.flixcart.com/image/short/p/h/t/altht-3p-1-alisha-34-original-imaeh2d5fa94gzuy.jpeg\"\n",
            " \"http://img5a.flixcart.com/image/short/z/h/b/altght-9-alisha-36-original-imaeh2d5khxcdggw.jpeg\"]\n",
            " \"http://img5a.flixcart.com/image/sofa-bed/r/c/g/fhd132-double-foam-fabhomedecor-purple-purple-original-imaeh3getyhdnnxn.jpeg\"\n",
            " \"http://img5a.flixcart.com/image/sofa-bed/r/c/g/fhd132-double-foam-fabhomedecor-purple-purple-original-imaeh3gehkzxd64a.jpeg\"\n",
            " \"http://img6a.flixcart.com/image/sofa-bed/r/c/g/fhd132-double-foam-fabhomedecor-purple-purple-original-imaeh3getztbhygx.jpeg\"\n",
            " \"http://img6a.flixcart.com/image/sofa-bed/r/c/g/fhd132-double-foam-fabhomedecor-purple-purple-original-imaeh3ge5qgadxgh.jpeg\"\n",
            " \"http://img6a.flixcart.com/image/sofa-bed/r/c/g/fhd132-double-foam-fabhomedecor-purple-purple-original-imaeh3gefhxg2vxy.jpeg\"\n",
            " \"http://img5a.flixcart.com/image/sofa-bed/r/c/g/fhd132-double-foam-fabhomedecor-purple-purple-original-imaeh3gfmx3wjstu.jpeg\"]\n",
            " \"http://img5a.flixcart.com/image/shoe/v/t/m/black-sfwf0377-style-foot-43-original-imaeh4cx4c7w8nuc.jpeg\"\n",
            " \"http://img5a.flixcart.com/image/shoe/p/f/h/black-sfwf0377-style-foot-44-original-imaeh4cxyruxf2pr.jpeg\"\n",
            " \"http://img5a.flixcart.com/image/shoe/p/f/h/black-sfwf0377-style-foot-44-original-imaeh4cxzzcbeudz.jpeg\"\n",
            " \"http://img5a.flixcart.com/image/shoe/v/t/m/black-sfwf0377-style-foot-43-original-imaeh4cxvjpek25n.jpeg\"]\n",
            " \"http://img6a.flixcart.com/image/swimsuit/g/z/j/carrel-sw-3091-darkblue-white-carrel-4xl-original-imaehyzmmgz3fgny.jpeg\"\n",
            " \"http://img6a.flixcart.com/image/swimsuit/g/z/j/carrel-sw-3091-darkblue-white-carrel-4xl-original-imaehyzmjgcfwacx.jpeg\"\n",
            " \"http://img6a.flixcart.com/image/swimsuit/g/z/j/carrel-sw-3091-darkblue-white-carrel-4xl-original-imaehyzms4b9k2vf.jpeg\"\n",
            " \"http://img6a.flixcart.com/image/swimsuit/g/z/j/carrel-sw-3091-darkblue-white-carrel-4xl-original-imaehyzmgf2j2yh4.jpeg\"]\n",
            " \"http://img5a.flixcart.com/image/sofa-bed/j/6/q/fhd115-double-foam-fabhomedecor-dark-brown-dark-brown-original-imaeh3gehqgbxhhq.jpeg\"\n",
            " \"http://img6a.flixcart.com/image/sofa-bed/j/6/q/fhd115-double-foam-fabhomedecor-dark-brown-dark-brown-original-imaeh3get5j5mqfw.jpeg\"\n",
            " \"http://img6a.flixcart.com/image/sofa-bed/j/6/q/fhd115-double-foam-fabhomedecor-dark-brown-dark-brown-original-imaeh3gezh3uxkux.jpeg\"\n",
            " \"http://img6a.flixcart.com/image/sofa-bed/j/6/q/fhd115-double-foam-fabhomedecor-dark-brown-dark-brown-original-imaeh3geexpwnmeb.jpeg\"]\n",
            " \"http://img5a.flixcart.com/image/pet-shampoo/v/x/m/sh-df-02-sicons-200-original-imaeh3kjba4htqfg.jpeg\"]\n",
            " \"http://img5a.flixcart.com/image/short/m/g/y/altht-3p-18-alisha-34-original-imaeh2d5zgnh6vsb.jpeg\"\n",
            " \"http://img6a.flixcart.com/image/short/p/h/t/altht-3p-1-alisha-34-original-imaeh2d5jxvh4msy.jpeg\"\n",
            " \"http://img6a.flixcart.com/image/short/p/h/t/altht-3p-1-alisha-34-original-imaeh2d5yz9fcjxe.jpeg\"\n",
            " \"http://img6a.flixcart.com/image/short/p/h/t/altht-3p-1-alisha-34-original-imaeh2d5fa94gzuy.jpeg\"\n",
            " \"http://img5a.flixcart.com/image/short/z/j/7/altght-7-alisha-38-original-imaeh2d5jsz2ghd6.jpeg\"]\n",
            " \"http://img6a.flixcart.com/image/t-shirt/w/x/t/dlhbb445-beige-black-gyellow-purple-dongli-10-11-years-original-imaehb54gxhchxcd.jpeg\"\n",
            " \"http://img5a.flixcart.com/image/t-shirt/f/n/f/dlhbb445-beige-black-gyellow-purple-dongli-15-16-years-original-imaehb55kjd6g4kg.jpeg\"\n",
            " \"http://img6a.flixcart.com/image/t-shirt/g/y/5/dlhbb445-beige-black-gyellow-purple-dongli-12-13-years-original-imaehb54re656maf.jpeg\"]\n",
            " \"http://img5a.flixcart.com/image/sandal/h/7/v/brown-white17-swagga0040-swagga-47-original-imaeh6zhxgymnwjx.jpeg\"\n",
            " \"http://img5a.flixcart.com/image/sandal/e/f/6/brown-black001-swagga0025-swagga-36-original-imaeh6zhsqwh8gaz.jpeg\"]\n",
            " \"http://img6a.flixcart.com/image/lingerie-set/m/w/z/gp2151ipu-glus-30b-original-imae92jf44ygzdhm.jpeg\"]\n",
            " \"http://img5a.flixcart.com/image/skate/w/y/7/ve-ar-2132-w-4-5-1-veelys-quad-roller-shiny-white-original-imae5jpf8c5nmxfy.jpeg\"\n",
            " \"http://img5a.flixcart.com/image/skate/w/y/7/ve-ar-2132-w-4-5-1-veelys-quad-roller-shiny-white-original-imae5jpfqfgzvmzc.jpeg\"\n",
            " \"http://img6a.flixcart.com/image/skate/w/y/7/ve-ar-2132-w-4-5-1-veelys-quad-roller-shiny-white-original-imae5jp2jkbhx4gc.jpeg\"\n",
            " \"http://img5a.flixcart.com/image/skate/w/y/7/ve-ar-2132-w-4-5-1-veelys-quad-roller-shiny-white-original-imae5jp5swnmwnxz.jpeg\"\n",
            " \"http://img5a.flixcart.com/image/skate/w/y/7/ve-ar-2132-w-4-5-1-veelys-quad-roller-shiny-white-original-imae5jpyfbmh4m4r.jpeg\"]\n",
            " \"http://img6a.flixcart.com/image/vanity-box/8/5/t/j-635-bulaky-vanity-case-original-imadzy6atzfswnag.jpeg\"\n",
            " \"http://img5a.flixcart.com/image/vanity-box/8/5/t/j-635-bulaky-vanity-case-original-imadzy6awxhnqxuy.jpeg\"]\n",
            " \"http://img5a.flixcart.com/image/legging-jegging/f/c/7/1-1-lg-green08-fdt-xl-original-imae58jpfg5zmjmg.jpeg\"\n",
            " \"http://img6a.flixcart.com/image/legging-jegging/f/c/7/1-1-lg-green08-fdt-xl-original-imae58jpqzshhphj.jpeg\"]\n",
            " \"http://img5a.flixcart.com/image/cargo/n/g/h/cargo-38-green-madcaps-34-original-imae5qgvbqb7whjq.jpeg\"\n",
            " \"http://img6a.flixcart.com/image/cargo/n/g/h/cargo-38-green-madcaps-34-original-imae5qgvzybrf3tt.jpeg\"\n",
            " \"http://img6a.flixcart.com/image/cargo/n/g/h/cargo-38-green-madcaps-34-original-imae5qgvehu5zuzb.jpeg\"\n",
            " \"http://img6a.flixcart.com/image/cargo/n/g/h/cargo-38-green-madcaps-34-original-imae5qgvhjzvfzcu.jpeg\"]\n",
            " \"http://img6a.flixcart.com/image/artificial-plant/g/s/n/bbajc218-bengal-blooms-original-imaeg8ety3zfcnvw.jpeg\"]\n",
            " \"http://img5a.flixcart.com/image/fabric/h/k/a/r-c-lehe-bt-indcrown-original-imaejbczsqzjrbfd.jpeg\"\n",
            " \"http://img6a.flixcart.com/image/fabric/h/k/a/r-c-lehe-bt-indcrown-original-imaejbczsqwbk8yz.jpeg\"\n",
            " \"http://img5a.flixcart.com/image/fabric/h/k/a/r-c-lehe-bt-indcrown-original-imaejbczy6tcpa3x.jpeg\"\n",
            " \"http://img5a.flixcart.com/image/fabric/u/g/e/w-nd-black-lehe-bt-indcrown-original-imaejbczrdg3464f.jpeg\"]\n",
            " \"http://img5a.flixcart.com/image/diary-notebook/g/y/y/shopmania-nb00664-original-imaej4wguh2c6dfb.jpeg\"]\n",
            " \"http://img6a.flixcart.com/image/diary-notebook/e/g/h/shopmania-nb00678-original-imaej4whhbgzn5z3.jpeg\"]\n",
            " \"http://img5a.flixcart.com/image/diary-notebook/6/j/u/tiara-diaries-244-original-imaej4qrfnczpn8k.jpeg\"]\n",
            " \"http://img5a.flixcart.com/image/waistcoat/v/z/6/lkod112-kajci-free-original-imaefwvngrpzz7hf.jpeg\"\n",
            " \"http://img6a.flixcart.com/image/waistcoat/v/z/6/lkod112-kajci-free-original-imaefwvzfnbfqskk.jpeg\"\n",
            " \"http://img5a.flixcart.com/image/waistcoat/v/z/6/lkod112-kajci-free-original-imaefwvpj9z63znz.jpeg\"]\n",
            " \"http://img5a.flixcart.com/image/packaging-security-bag/6/y/q/8-x-10-inches-security-bags-without-pod-jacket-courier-bag-original-imaegbjpxtthuyzc.jpeg\"\n",
            " \"http://img6a.flixcart.com/image/packaging-security-bag/6/y/q/8-x-10-inches-security-bags-without-pod-jacket-courier-bag-original-imaegbk8aqxh8fvz.jpeg\"\n",
            " \"http://img6a.flixcart.com/image/packaging-security-bag/6/y/q/8-x-10-inches-security-bags-without-pod-jacket-courier-bag-original-imaegbk87bnggamr.jpeg\"\n",
            " \"http://img5a.flixcart.com/image/packaging-security-bag/6/y/q/8-x-10-inches-security-bags-without-pod-jacket-courier-bag-original-imaegbk8jmty4tfa.jpeg\"\n",
            " \"http://img6a.flixcart.com/image/packaging-security-bag/6/y/q/8-x-10-inches-security-bags-without-pod-jacket-courier-bag-original-imaegbk8qhhq68gd.jpeg\"]\n",
            " \"http://img5a.flixcart.com/image/waistcoat/d/z/y/tl-012-pick-pocket-xxl-original-imaefurn2xrqf4ef.jpeg\"\n",
            " \"http://img5a.flixcart.com/image/waistcoat/d/z/y/tl-012-pick-pocket-xxl-original-imaefurnfgxqnfyn.jpeg\"\n",
            " \"http://img5a.flixcart.com/image/waistcoat/d/z/y/tl-012-pick-pocket-xxl-original-imaefurn6tcq3fhz.jpeg\"\n",
            " \"http://img6a.flixcart.com/image/waistcoat/d/z/y/tl-012-pick-pocket-xxl-original-imaefurnjgst7nqg.jpeg\"]\n",
            " \"http://img5a.flixcart.com/image/pouch-potli/u/x/v/aelkabj01224-a-angelfish-potli-silk-potali-original-imaeepryxh8xez64.jpeg\"\n",
            " \"http://img6a.flixcart.com/image/pouch-potli/u/x/v/aelkabj01224-a-angelfish-potli-silk-potali-original-imaeeprypmwscfp9.jpeg\"]\n",
            " \"http://img5a.flixcart.com/image/dungaree-romper/9/z/d/bpr0015-oye-1-2-years-original-imaeeyu6ashttgyv.jpeg\"\n",
            " \"http://img6a.flixcart.com/image/dungaree-romper/9/z/d/bpr0015-oye-3-4-years-original-imaeeyu62txzhkhw.jpeg\"]\n",
            " \"http://img6a.flixcart.com/image/shoe/g/6/e/red-1216-nuride-41-original-imaedsa8ygreggzk.jpeg\"\n",
            " \"http://img5a.flixcart.com/image/shoe/g/6/e/red-1216-nuride-39-original-imaedsa8f2zzjznz.jpeg\"\n",
            " \"http://img5a.flixcart.com/image/shoe/g/6/e/red-1216-nuride-39-original-imaedsa8yzndmtkm.jpeg\"\n",
            " \"http://img5a.flixcart.com/image/shoe/g/6/e/red-1216-nuride-39-original-imaegx3k2xhzgwak.jpeg\"]\n",
            " \"http://img6a.flixcart.com/image/showpiece-figurine/r/y/y/osk60-om-shivakriti-original-imaehpu5xexmygsk.jpeg\"]\n",
            " \"http://img6a.flixcart.com/image/sun-shade/5/2/y/pp48-car-magnetic-himmlisch-original-imaegujvyzrc8eh6.jpeg\"]\n",
            " \"http://img5a.flixcart.com/image/wire-joint-connector/n/r/f/bnc-057-rapter-100-original-imaehffvdkwk4jzh.jpeg\"]\n",
            " \"http://img6a.flixcart.com/image/kurta/d/s/y/vnku004384-navy-blue-vishudh-xxl-original-imaehdjt7p8hrqp8.jpeg\"\n",
            " \"http://img6a.flixcart.com/image/kurta/h/b/y/vnku004384-navy-blue-vishudh-s-original-imaehdjsvcyp9xz4.jpeg\"\n",
            " \"http://img5a.flixcart.com/image/kurta/h/b/y/vnku004384-navy-blue-vishudh-xxl-original-imaehdjtnmzgqrh9.jpeg\"\n",
            " \"http://img6a.flixcart.com/image/kurta/h/b/y/vnku004384-navy-blue-vishudh-l-original-imaehdjtkyanvavh.jpeg\"]\n",
            " \"http://img6a.flixcart.com/image/kurta/s/c/g/vnku004370-pink-olive-vishudh-xxl-original-imaehdjscr2pabpv.jpeg\"\n",
            " \"http://img6a.flixcart.com/image/kurta/s/c/g/vnku004370-pink-olive-vishudh-xxl-original-imaehdjsh7zyvbqg.jpeg\"\n",
            " \"http://img5a.flixcart.com/image/kurta/s/c/g/vnku004370-pink-olive-vishudh-xxl-original-imaehdjswgdtvfgp.jpeg\"\n",
            " \"http://img6a.flixcart.com/image/kurta/s/c/g/vnku004370-pink-olive-vishudh-s-original-imaehdjs35fyjzhr.jpeg\"]\n",
            " \"http://img6a.flixcart.com/image/kurta/f/c/4/vnku004389-beige-pink-vishudh-xl-original-imaehdjtwsnkgzvy.jpeg\"\n",
            " \"http://img6a.flixcart.com/image/kurta/r/s/c/vnku004389-beige-pink-vishudh-m-original-imaehdjtsg2ukrpe.jpeg\"\n",
            " \"http://img5a.flixcart.com/image/kurta/h/a/b/vnku004389-beige-pink-vishudh-s-original-imaehdjtpyzb4ze7.jpeg\"\n",
            " \"http://img5a.flixcart.com/image/kurta/4/s/4/vnku004389-beige-pink-vishudh-s-original-imaehdjtzxjghfxt.jpeg\"\n",
            " \"http://img6a.flixcart.com/image/kurta/h/y/a/vnku004389-beige-pink-vishudh-l-original-imaehdjttyfjwezt.jpeg\"]\n",
            " \"http://img6a.flixcart.com/image/sensor-security-system/p/f/9/summersible-single-phase-pump-controller-skayvon-original-imaehdu5kpwuxqg6.jpeg\"\n",
            " \"http://img6a.flixcart.com/image/sensor-security-system/p/f/9/summersible-single-phase-pump-controller-skayvon-original-imaehfubyeps4crw.jpeg\"\n",
            " \"http://img6a.flixcart.com/image/sensor-security-system/p/f/9/summersible-single-phase-pump-controller-skayvon-original-imaehfucbz9zrnaj.jpeg\"\n",
            " \"http://img6a.flixcart.com/image/sensor-security-system/p/f/9/summersible-single-phase-pump-controller-skayvon-original-imaehfucuvfmsv39.jpeg\"]\n",
            " \"http://img6a.flixcart.com/image/kurta/6/f/e/m001pcotsearain-masara-m-original-imaeheqcnt2zv5ap.jpeg\"\n",
            " \"http://img6a.flixcart.com/image/kurta/a/t/9/m003pcotsearain-masara-xl-original-imaeheqbkp27hfgk.jpeg\"\n",
            " \"http://img5a.flixcart.com/image/kurta/6/f/e/m001pcotsearain-masara-m-original-imaeheqbnh4zxgnx.jpeg\"]\n",
            " \"http://img6a.flixcart.com/image/kurta/y/h/j/vnku004371-rust-teal-vishudh-m-original-imaehdjsbfyfx5br.jpeg\"\n",
            " \"http://img6a.flixcart.com/image/kurta/g/h/q/vnku004371-rust-teal-vishudh-s-original-imaehdjsujjktns2.jpeg\"\n",
            " \"http://img6a.flixcart.com/image/kurta/y/h/j/vnku004371-rust-teal-vishudh-xl-original-imaehdjsfyywhg5f.jpeg\"\n",
            " \"http://img6a.flixcart.com/image/kurta/y/h/j/vnku004371-rust-teal-vishudh-xl-original-imaehdjsxfek5jk4.jpeg\"\n",
            " \"http://img5a.flixcart.com/image/kurta/g/h/q/vnku004371-rust-teal-vishudh-s-original-imaehdjsanzsf4pr.jpeg\"]\n",
            " \"http://img6a.flixcart.com/image/wire-joint-connector/h/s/e/bnc-048-rapter-64-original-imaehffvf7nm3hrc.jpeg\"]\n",
            " \"http://img6a.flixcart.com/image/sensor-security-system/g/s/h/submersibble-three-phase-pump-controller-skayvon-original-imaehfuqfqy72bfc.jpeg\"\n",
            " \"http://img5a.flixcart.com/image/sensor-security-system/k/c/h/semi-automatic-water-level-controller-skayvon-original-imaehb7v7dtbdjth.jpeg\"\n",
            " \"http://img6a.flixcart.com/image/sensor-security-system/k/c/h/semi-automatic-water-level-controller-skayvon-original-imaehb7v5m8kmvv2.jpeg\"\n",
            " \"http://img6a.flixcart.com/image/sensor-security-system/g/s/h/submersibble-three-phase-pump-controller-skayvon-original-imaehfurgvvf4frm.jpeg\"]\n",
            " \"http://img6a.flixcart.com/image/kurta/p/3/w/vnku004373-black-maroon-vishudh-s-original-imaehdjstqbpm9p3.jpeg\"\n",
            " \"http://img5a.flixcart.com/image/kurta/p/3/w/vnku004373-black-maroon-vishudh-s-original-imaehdjsqjtn6vnq.jpeg\"\n",
            " \"http://img6a.flixcart.com/image/kurta/p/3/w/vnku004373-black-maroon-vishudh-xl-original-imaehdjs4g5erb8g.jpeg\"\n",
            " \"http://img6a.flixcart.com/image/kurta/p/3/w/vnku004373-black-maroon-vishudh-m-original-imaehdjsebwdhhkx.jpeg\"\n",
            " \"http://img5a.flixcart.com/image/kurta/p/3/w/vnku004373-black-maroon-vishudh-m-original-imaehdjs2khf6j8m.jpeg\"]\n",
            " \"http://img5a.flixcart.com/image/sound-mixer/j/c/q/xenyx-502-behringer-original-imaehep2vzqppdnx.jpeg\"]\n",
            " \"http://img5a.flixcart.com/image/kurta/9/s/y/vnku004374-black-grey-vishudh-xxl-original-imaehdjrh2xqguvh.jpeg\"\n",
            " \"http://img5a.flixcart.com/image/kurta/9/s/y/vnku004374-black-grey-vishudh-xl-original-imaehdjshhsedh47.jpeg\"\n",
            " \"http://img6a.flixcart.com/image/kurta/9/s/y/vnku004374-black-grey-vishudh-s-original-imaehdjrnu8mjws8.jpeg\"\n",
            " \"http://img5a.flixcart.com/image/kurta/9/s/y/vnku004374-black-grey-vishudh-xl-original-imaehdjsaesmzwkb.jpeg\"\n",
            " \"http://img6a.flixcart.com/image/kurta/9/s/y/vnku004374-black-grey-vishudh-xl-original-imaehdjsk4grwa77.jpeg\"]\n",
            " \"http://img5a.flixcart.com/image/kurta/8/w/p/vnku004372-purple-plum-vishudh-s-original-imaehdjst6vufgnh.jpeg\"\n",
            " \"http://img6a.flixcart.com/image/kurta/8/w/p/vnku004372-purple-plum-vishudh-xxl-original-imaehdjstxehhcrb.jpeg\"\n",
            " \"http://img6a.flixcart.com/image/kurta/8/w/p/vnku004372-purple-plum-vishudh-xxl-original-imaehdjshuy2yjyy.jpeg\"\n",
            " \"http://img5a.flixcart.com/image/kurta/q/2/g/vnku004372-purple-plum-vishudh-xl-original-imaehdjsgkpzazgc.jpeg\"]\n",
            " \"http://img6a.flixcart.com/image/kurta/6/f/e/m001pcotsearain-masara-m-original-imaeheqcnt2zv5ap.jpeg\"\n",
            " \"http://img6a.flixcart.com/image/kurta/a/t/9/m003pcotsearain-masara-xl-original-imaeheqbkp27hfgk.jpeg\"\n",
            " \"http://img5a.flixcart.com/image/kurta/6/f/e/m001pcotsearain-masara-m-original-imaeheqbnh4zxgnx.jpeg\"]\n",
            " \"http://img5a.flixcart.com/image/kurta/x/g/k/m002pcotredgar-masara-xxl-original-imaeheqb9kx26gqg.jpeg\"\n",
            " \"http://img6a.flixcart.com/image/kurta/x/g/k/m002pcotredgar-masara-xxl-original-imaeheqbhdgfxha7.jpeg\"\n",
            " \"http://img6a.flixcart.com/image/kurta/x/g/k/m002pcotredgar-masara-xxl-original-imaeheqbzga7qvyz.jpeg\"]\n",
            " \"http://img6a.flixcart.com/image/cardigan/e/q/2/1-1-872907-roadster-l-original-imaeczn7g9zcqhny.jpeg\"\n",
            " \"http://img6a.flixcart.com/image/cardigan/e/q/2/1-1-872907-roadster-xl-original-imaeczn7jzbdrb6k.jpeg\"\n",
            " \"http://img5a.flixcart.com/image/cardigan/e/q/2/1-1-872907-roadster-xl-original-imaeczn7qygcgwqw.jpeg\"\n",
            " \"http://img5a.flixcart.com/image/cardigan/e/q/2/1-1-872907-roadster-xl-original-imaeczn7ncbz9r6t.jpeg\"]\n",
            " \"http://img5a.flixcart.com/image/kurta/u/q/v/vnku004385-maroon-vishudh-m-original-imaehdjtsszdvkgn.jpeg\"\n",
            " \"http://img6a.flixcart.com/image/kurta/u/q/v/vnku004385-maroon-vishudh-s-original-imaehdjtgkwjadhy.jpeg\"\n",
            " \"http://img5a.flixcart.com/image/kurta/u/q/v/vnku004385-maroon-vishudh-l-original-imaehdjtk6uaaz6h.jpeg\"\n",
            " \"http://img6a.flixcart.com/image/kurta/u/q/v/vnku004385-maroon-vishudh-xl-original-imaehdjtag4fft9n.jpeg\"]\n",
            " \"http://img5a.flixcart.com/image/kurta/m/u/z/nw-0012-noor-xl-original-imaehfjzkaa2vpnn.jpeg\"\n",
            " \"http://img6a.flixcart.com/image/kurta/e/v/9/nw-0012-noor-l-original-imaehfjpjmsapshm.jpeg\"\n",
            " \"http://img5a.flixcart.com/image/kurta/5/r/n/nw-0012-noor-m-original-imaehfjp9cfumvvv.jpeg\"]\n",
            " \"http://img5a.flixcart.com/image/kurta/z/c/t/m002pcotnavrain-masara-l-original-imaeheqbtjrjuv6e.jpeg\"\n",
            " \"http://img6a.flixcart.com/image/kurta/y/y/u/m004pcotnavrain-masara-xxl-original-imaeheqbstakrthn.jpeg\"\n",
            " \"http://img5a.flixcart.com/image/kurta/j/t/d/m002pcotpinrain-masara-l-original-imaeheqbuzkhtzay.jpeg\"]\n",
            " \"http://img6a.flixcart.com/image/kurta/g/2/r/vnku004376-plum-pink-vishudh-xl-original-imaehdjsafzxyeha.jpeg\"\n",
            " \"http://img6a.flixcart.com/image/kurta/g/2/r/vnku004376-plum-pink-vishudh-l-original-imaehdjsqnuchvwc.jpeg\"\n",
            " \"http://img6a.flixcart.com/image/kurta/g/2/r/vnku004376-plum-pink-vishudh-xl-original-imaehdjswnunujkg.jpeg\"\n",
            " \"http://img6a.flixcart.com/image/kurta/g/2/r/vnku004376-plum-pink-vishudh-l-original-imaehdjsgzvvcyha.jpeg\"\n",
            " \"http://img5a.flixcart.com/image/kurta/g/2/r/vnku004376-plum-pink-vishudh-m-original-imaehdjs7qmxcydz.jpeg\"]\n",
            " \"http://img6a.flixcart.com/image/kurta/s/h/f/2438-red-libas-s-original-imaegfjenqfwhyhu.jpeg\"\n",
            " \"http://img5a.flixcart.com/image/kurta/s/h/f/2438-red-libas-l-original-imaegfjeg8dch5bd.jpeg\"\n",
            " \"http://img5a.flixcart.com/image/kurta/s/h/f/2438-red-libas-l-original-imaegfje6ywq2svv.jpeg\"\n",
            " \"http://img5a.flixcart.com/image/kurta/s/h/f/2438-red-libas-l-original-imaegfje27z7v89y.jpeg\"]\n",
            " \"http://img5a.flixcart.com/image/kurta/q/d/m/2422-beige-libas-xxl-original-imaegfjeybmdzcfy.jpeg\"\n",
            " \"http://img5a.flixcart.com/image/kurta/y/x/4/2422-beige-libas-m-original-imaegfjedebdzqhm.jpeg\"\n",
            " \"http://img5a.flixcart.com/image/kurta/q/d/m/2422-beige-libas-l-original-imaegfjekbhkyepg.jpeg\"\n",
            " \"http://img6a.flixcart.com/image/kurta/q/d/m/2422-beige-libas-l-original-imaegfjeexkan2gf.jpeg\"\n",
            " \"http://img5a.flixcart.com/image/kurta/q/d/m/2422-beige-libas-s-original-imaegfjej6hd6gge.jpeg\"]\n",
            " \"http://img6a.flixcart.com/image/kurta/q/h/z/m003pcotgreflo-masara-xl-original-imaeheqbdqkgqp7z.jpeg\"\n",
            " \"http://img6a.flixcart.com/image/kurta/t/y/p/m002pcotgreflo-masara-l-original-imaeheqbbgng4h3r.jpeg\"]\n",
            " \"http://img6a.flixcart.com/image/pad/e/m/z/cg101-hrs-chest-pads-ultimate-youth-original-imaecgxtzrqpgftf.jpeg\"]\n",
            " \"http://img6a.flixcart.com/image/belt/z/6/d/36-g7001brn-vermello-belt-g7001brn36-original-imaeg66zfptr4hbm.jpeg\"\n",
            " \"http://img5a.flixcart.com/image/belt/a/y/h/38-g7001brn-vermello-belt-g7001brn38-original-imaeg66zxdcjhypz.jpeg\"\n",
            " \"http://img5a.flixcart.com/image/belt/z/6/d/36-g7001brn-vermello-belt-g7001brn36-original-imaeg66zcgbzhvmz.jpeg\"]\n",
            " \"http://img5a.flixcart.com/image/pad/f/f/s/tp103-hrs-thigh-pads-club-youth-original-imaeg772crkxymwf.jpeg\"]\n",
            " \"http://img5a.flixcart.com/image/belt/f/q/h/42-lny-m-mo-1017-fs-ligans-ny-belt-fae-mo-fs-original-imaedezypkhsdghk.jpeg\"\n",
            " \"http://img6a.flixcart.com/image/belt/n/5/z/28-lny-m-mo-1017-fs-ligans-ny-belt-fae-mo-fs-original-imaedezyvycmasnj.jpeg\"]\n",
            " \"http://img6a.flixcart.com/image/pad/a/x/v/eg101-hrs-elbow-pads-ultimate-boy-original-imaehqhgsbwhu4hm.jpeg\"]\n",
            " \"http://img5a.flixcart.com/image/bath-towel/z/u/h/asvtwl322-sathiyas-sathiyas-cotton-bath-towel-original-imaegyryachkkfac.jpeg\"\n",
            " \"http://img6a.flixcart.com/image/bath-towel/z/u/h/asvtwl322-sathiyas-sathiyas-cotton-bath-towel-original-imaegyr3gthd8qvy.jpeg\"\n",
            " \"http://img6a.flixcart.com/image/bath-towel/z/u/h/asvtwl322-sathiyas-sathiyas-cotton-bath-towel-original-imaegyr5bju2hme8.jpeg\"]\n",
            " \"http://img6a.flixcart.com/image/pad/e/m/z/cg101-hrs-chest-pads-ultimate-youth-original-imaecgxtzrqpgftf.jpeg\"]\n",
            " \"http://img5a.flixcart.com/image/bath-towel/a/2/y/shuvam20pcftsetassorted-eurospa-shuvam20pcftsetassorted-original-imaeg6cr7hnxg8qy.jpeg\"]\n",
            " \"http://img6a.flixcart.com/image/bedsheet/d/r/8/goldbedi-81-santosh-royal-fashion-flat-gold-design-royal-cotton-original-imaejqxsmby6afqw.jpeg\"]\n",
            " \"http://img6a.flixcart.com/image/mobile-panel/z/x/5/panel-a2-casedeal-original-imaejhfz5wmsfbcf.jpeg\"]\n",
            " \"http://img6a.flixcart.com/image/shirt/x/z/8/rrcls-w-6107-mario-gotze-xl-original-imaejqq44aqcrvgn.jpeg\"\n",
            " \"http://img6a.flixcart.com/image/shirt/x/z/8/rrcls-w-6107-mario-gotze-xl-original-imaejqq4srkrnzhr.jpeg\"\n",
            " \"http://img5a.flixcart.com/image/shirt/x/z/8/rrcls-w-6107-mario-gotze-xl-original-imaejqq4yhchphvu.jpeg\"]\n",
            " \"http://img6a.flixcart.com/image/bedsheet/w/q/u/jaipur117-jaipur-print-flat-jaipur117-original-imaejfv5nahwybec.jpeg\"\n",
            " \"http://img5a.flixcart.com/image/bedsheet/w/q/u/jaipur117-jaipur-print-flat-jaipur117-original-imaejfv5tgxgtybh.jpeg\"]\n",
            " \"http://img5a.flixcart.com/image/coin-bank/q/u/u/shilpi-nhscn003-original-imaej7ra6ymsk8zq.jpeg\"]\n",
            " \"http://img5a.flixcart.com/image/bedsheet/s/j/f/ahmd11-jaipur-print-flat-ahmd11-original-imaegsgcsfvfgxws.jpeg\"\n",
            " \"http://img5a.flixcart.com/image/bedsheet/s/j/f/ahmd11-jaipur-print-flat-ahmd11-original-imaegsgcsvckckqs.jpeg\"]\n",
            " \"http://img5a.flixcart.com/image/apparels-combo/w/m/e/bbz1105a-babeezworld-original-imaehbfbkynega2z.jpeg\"\n",
            " \"http://img6a.flixcart.com/image/apparels-combo/j/z/u/bbz1105a-babeezworld-original-imaehbyhrzdyxpcr.jpeg\"\n",
            " \"http://img5a.flixcart.com/image/apparels-combo/f/x/x/bbz1105a-babeezworld-original-imaehbyh7xchhwjp.jpeg\"\n",
            " \"http://img6a.flixcart.com/image/apparels-combo/f/x/x/bbz1105a-babeezworld-original-imaehbfbjjffht4e.jpeg\"]\n",
            " \"http://img5a.flixcart.com/image/showpiece-figurine/t/8/w/6437-redbag-original-imaegzgh9xaqhwgt.jpeg\"]\n",
            " \"http://img5a.flixcart.com/image/protein-supplement/y/v/g/10036-unflavor-proence-60-original-imaeav4hmyxxm59m.jpeg\"\n",
            " \"http://img6a.flixcart.com/image/protein-supplement/z/6/q/10193-brio-1-original-imaeh4jrdtrpnawx.jpeg\"\n",
            " \"http://img6a.flixcart.com/image/protein-supplement/y/v/g/10036-unflavor-proence-60-original-imaeav4hfgygrxqk.jpeg\"\n",
            " \"http://img5a.flixcart.com/image/protein-supplement/y/v/g/10036-unflavor-proence-60-original-imaeav4hfrxskmz4.jpeg\"\n",
            " \"http://img6a.flixcart.com/image/protein-supplement/y/v/g/10036-unflavor-proence-60-original-imaeav4hpkbx3fhj.jpeg\"\n",
            " \"http://img5a.flixcart.com/image/protein-supplement/y/v/g/10036-unflavor-proence-60-original-imaeav4hxp2wutzz.jpeg\"]\n",
            " \"http://img5a.flixcart.com/image/shirt/g/x/r/denim-check-discountgod-m-original-imaebwfkhawzd6gn.jpeg\"\n",
            " \"http://img6a.flixcart.com/image/shirt/g/x/r/denim-check-discountgod-l-original-imaebwfzftgrqgcn.jpeg\"\n",
            " \"http://img5a.flixcart.com/image/shirt/g/x/r/denim-check-discountgod-m-original-imaebr47sdhg34xj.jpeg\"\n",
            " \"http://img6a.flixcart.com/image/shirt/g/x/r/denim-check-discountgod-m-original-imaebwfmqnp9ythp.jpeg\"\n",
            " \"http://img6a.flixcart.com/image/shirt/g/x/r/denim-check-discountgod-l-original-imaebwfnwsvakecm.jpeg\"]\n",
            " \"http://img5a.flixcart.com/image/shirt/g/b/j/ss-viv-pdnm-silver-streak-38-original-imaeb5bw53gfxmyz.jpeg\"\n",
            " \"http://img6a.flixcart.com/image/shirt/g/b/j/ss-viv-pdnm-silver-streak-38-original-imaeb5bwxbqzeqzw.jpeg\"\n",
            " \"http://img6a.flixcart.com/image/shirt/g/b/j/ss-viv-pdnm-silver-streak-42-original-imaeb5bwvazjkrmf.jpeg\"\n",
            " \"http://img6a.flixcart.com/image/shirt/g/b/j/ss-viv-pdnm-silver-streak-38-original-imaeb5bwzpkupnfs.jpeg\"\n",
            " \"http://img6a.flixcart.com/image/shirt/g/b/j/ss-viv-pdnm-silver-streak-44-original-imaeb5bwk2tartst.jpeg\"]\n",
            " \"http://img5a.flixcart.com/image/watch/s/y/x/co6394a1-cobra-paris-original-imae3ewvtzeazghm.jpeg\"\n",
            " \"http://img5a.flixcart.com/image/watch/s/y/x/co6394a1-cobra-paris-original-imae3ewvt4z8bcbk.jpeg\"\n",
            " \"http://img6a.flixcart.com/image/watch/s/y/x/co6394a1-cobra-paris-original-imae3ewvzrtmahug.jpeg\"\n",
            " \"http://img6a.flixcart.com/image/watch/s/y/x/co6394a1-cobra-paris-original-imae3ewvcvwzbvwy.jpeg\"\n",
            " \"http://img6a.flixcart.com/image/watch/s/y/x/co6394a1-cobra-paris-original-imae3ewvffwaphvy.jpeg\"]\n",
            " \"http://img5a.flixcart.com/image/shoe/z/d/5/black-tenmbt-bot0016-ten-41-original-imaecjvbzkmhmqy3.jpeg\"\n",
            " \"http://img6a.flixcart.com/image/shoe/z/d/5/black-tenmbt-bot0016-ten-41-original-imaecjvbcfxah5jf.jpeg\"\n",
            " \"http://img5a.flixcart.com/image/shoe/z/d/5/black-tenmbt-bot0016-ten-41-original-imaecjvbgsseeegu.jpeg\"\n",
            " \"http://img5a.flixcart.com/image/shoe/z/d/5/black-tenmbt-bot0016-ten-41-original-imaecjvbdrw4vghe.jpeg\"]\n",
            " \"http://img5a.flixcart.com/image/watch/v/d/5/g-729-s-bk-aries-gold-original-imaecefhrbpzq8y9.jpeg\"\n",
            " \"http://img5a.flixcart.com/image/watch/v/d/5/g-729-s-bk-aries-gold-original-imaecefhrncfgcqb.jpeg\"\n",
            " \"http://img6a.flixcart.com/image/watch/v/d/5/g-729-s-bk-aries-gold-original-imaecefhkmdgfmg9.jpeg\"]\n",
            " \"http://img6a.flixcart.com/image/shoe/3/j/q/brown-cll-3106-carlton-3-original-imae7ndxbnhdwtdg.jpeg\"\n",
            " \"http://img6a.flixcart.com/image/shoe/3/j/q/brown-cll-3106-carlton-3-original-imae7ndxhc7ctsxr.jpeg\"\n",
            " \"http://img6a.flixcart.com/image/shoe/3/j/q/brown-cll-3106-carlton-7-original-imae7zj3sthwcvxd.jpeg\"\n",
            " \"http://img5a.flixcart.com/image/shoe/3/j/q/brown-cll-3106-carlton-3-original-imae7ndxqtzzgzhd.jpeg\"]\n",
            " \"http://img6a.flixcart.com/image/watch/a/y/m/r8851116001-maserati-time-original-imae9zxykwzyvb6z.jpeg\"\n",
            " \"http://img5a.flixcart.com/image/watch/a/y/m/r8851116001-maserati-time-original-imae9zxyrs8xczjr.jpeg\"\n",
            " \"http://img5a.flixcart.com/image/watch/a/y/m/r8851116001-maserati-time-original-imae9zxyfzehmhmy.jpeg\"\n",
            " \"http://img5a.flixcart.com/image/watch/k/h/k/r8871612005-maserati-time-original-imaeaju2khdgdk3x.jpeg\"]\n",
            " \"http://img6a.flixcart.com/image/watch/g/s/q/8503b-1red-vizion-original-imaecvyfaheuqfm5.jpeg\"\n",
            " \"http://img6a.flixcart.com/image/watch/g/s/q/8503b-1red-vizion-original-imaecvyfhmwarzkn.jpeg\"\n",
            " \"http://img5a.flixcart.com/image/watch/g/s/q/8503b-1red-vizion-original-imaecvyfbhyrhg3g.jpeg\"\n",
            " \"http://img6a.flixcart.com/image/watch/g/s/q/8503b-1red-vizion-original-imaecvyfzwgay7uw.jpeg\"]\n",
            " \"http://img6a.flixcart.com/image/watch/g/b/z/wm64-camerii-original-imae6xzafxhkgskg.jpeg\"\n",
            " \"http://img5a.flixcart.com/image/watch/g/b/z/wm64-camerii-original-imae6xza8sadyeer.jpeg\"\n",
            " \"http://img6a.flixcart.com/image/watch/g/b/z/wm64-camerii-original-imae6xzavzpthsqc.jpeg\"\n",
            " \"http://img5a.flixcart.com/image/watch/g/b/z/wm64-camerii-original-imae6xzakagtducg.jpeg\"]\n",
            " \"http://img5a.flixcart.com/image/jean/q/s/c/rac-7pcs-reckler-36-original-imaec2gjntgpztd4.jpeg\"\n",
            " \"http://img6a.flixcart.com/image/jean/q/s/c/rac-7pcs-reckler-36-original-imaec2gjtfzp7xsp.jpeg\"\n",
            " \"http://img6a.flixcart.com/image/jean/g/j/7/rac-03-reckler-30-original-imaec2gjrrcuj5mc.jpeg\"\n",
            " \"http://img6a.flixcart.com/image/jean/g/j/7/rac-03-reckler-34-original-imaec2gjexytgdwt.jpeg\"]\n",
            " \"http://img6a.flixcart.com/image/shoe/u/f/s/black-nu-962-quechua-41-original-imae4fzjhgdbbyya.jpeg\"\n",
            " \"http://img6a.flixcart.com/image/shoe/u/f/s/black-nu-962-quechua-41-original-imae4fzjyyzwrnaf.jpeg\"\n",
            " \"http://img6a.flixcart.com/image/shoe/u/f/s/black-nu-962-quechua-37-original-imae4fzj5dpucww7.jpeg\"]\n",
            " \"http://img5a.flixcart.com/image/watch/q/g/a/colat-mw20-colat-original-imae2ruyqehpbzde.jpeg\"\n",
            " \"http://img6a.flixcart.com/image/watch/q/g/a/colat-mw20-colat-original-imae2ruyqtfmnaup.jpeg\"\n",
            " \"http://img5a.flixcart.com/image/watch/q/g/a/colat-mw20-colat-original-imae2ruyrap2wdfg.jpeg\"\n",
            " \"http://img6a.flixcart.com/image/watch/q/g/a/colat-mw20-colat-original-imae2ruyntsnxy9u.jpeg\"]\n",
            " \"http://img6a.flixcart.com/image/shoe/5/z/g/tan-xf-04-steppings-41-original-imaefugent2gzauz.jpeg\"\n",
            " \"http://img6a.flixcart.com/image/shoe/5/z/g/tan-xf-04-steppings-41-original-imaefugehb55ha7h.jpeg\"\n",
            " \"http://img5a.flixcart.com/image/shoe/5/z/g/tan-xf-04-steppings-35-original-imaefugep7m7wcj3.jpeg\"\n",
            " \"http://img5a.flixcart.com/image/shoe/5/z/g/tan-xf-04-steppings-41-original-imaefugfacfdn367.jpeg\"\n",
            " \"http://img6a.flixcart.com/image/shoe/5/z/g/tan-xf-04-steppings-41-original-imaefugedmh7echm.jpeg\"]\n",
            " \"http://img5a.flixcart.com/image/watch/n/f/t/rw38-rochees-original-imaed8ekrcarzqzk.jpeg\"\n",
            " \"http://img5a.flixcart.com/image/watch/n/f/t/rw38-rochees-original-imaed8ehygmnupgh.jpeg\"\n",
            " \"http://img6a.flixcart.com/image/watch/n/f/t/rw38-rochees-original-imaed8ehkdkkraaz.jpeg\"]\n",
            " \"http://img6a.flixcart.com/image/watch/j/a/r/rr-028-rorlig-original-imaebyu5gtrpznau.jpeg\"\n",
            " \"http://img5a.flixcart.com/image/watch/j/a/r/rr-028-rorlig-original-imaebyu5zrwpamgj.jpeg\"\n",
            " \"http://img5a.flixcart.com/image/watch/k/f/u/rr-027-rorlig-original-imaebyu57r8nfsez.jpeg\"]\n",
            " \"http://img6a.flixcart.com/image/shoe/v/j/a/black-catwalk-010-catwalk-37-original-imaea48zj6hmmfea.jpeg\"\n",
            " \"http://img5a.flixcart.com/image/shoe/v/j/a/black-catwalk-010-catwalk-40-original-imaea48zuqaca9mx.jpeg\"\n",
            " \"http://img5a.flixcart.com/image/shoe/v/j/a/black-catwalk-010-catwalk-39-original-imaea48zg8fax2g7.jpeg\"\n",
            " \"http://img5a.flixcart.com/image/shoe/v/j/a/black-catwalk-010-catwalk-39-original-imaea48zv5hh8ms7.jpeg\"\n",
            " \"http://img5a.flixcart.com/image/shoe/v/j/a/black-catwalk-010-catwalk-38-original-imaea48zd6ar7tkj.jpeg\"]\n",
            " \"http://img5a.flixcart.com/image/shoe/t/j/k/black-758-magnum-footwear-41-original-imaebyrezjqfmyug.jpeg\"\n",
            " \"http://img6a.flixcart.com/image/shoe/t/j/k/black-758-magnum-footwear-41-original-imaebyregthexhhz.jpeg\"\n",
            " \"http://img6a.flixcart.com/image/shoe/t/j/k/black-758-magnum-footwear-41-original-imaebyrfznrnhhym.jpeg\"\n",
            " \"http://img6a.flixcart.com/image/shoe/t/j/k/black-758-magnum-footwear-41-original-imaebyrfxqqghnsm.jpeg\"\n",
            " \"http://img6a.flixcart.com/image/shoe/t/j/k/black-758-magnum-footwear-41-original-imaebyrfpjgvc2hb.jpeg\"]\n",
            " \"http://img6a.flixcart.com/image/watch/d/3/d/uft-tsw-005-bk-br-t-star-original-imaecgzggrcdhm5x.jpeg\"\n",
            " \"http://img6a.flixcart.com/image/watch/d/3/d/uft-tsw-005-bk-br-t-star-original-imaecgzgbg5kpmhn.jpeg\"\n",
            " \"http://img6a.flixcart.com/image/watch/d/3/d/uft-tsw-005-bk-br-t-star-original-imaecgzghn7zaugz.jpeg\"]\n",
            " \"http://img5a.flixcart.com/image/shoe/7/5/v/br-rialto-a1027-rialto-38-original-imaecxngywtqjyhz.jpeg\"\n",
            " \"http://img6a.flixcart.com/image/shoe/7/5/v/br-rialto-a1027-rialto-39-original-imaecxnggmwzzkg7.jpeg\"\n",
            " \"http://img5a.flixcart.com/image/shoe/7/5/v/br-rialto-a1027-rialto-38-original-imaecxngtevgfpfp.jpeg\"\n",
            " \"http://img5a.flixcart.com/image/shoe/7/5/v/br-rialto-a1027-rialto-38-original-imaecxngksx8jcut.jpeg\"\n",
            " \"http://img5a.flixcart.com/image/shoe/7/5/v/br-rialto-a1027-rialto-37-original-imaed56yhrwgrhcy.jpeg\"]\n",
            " \"http://img5a.flixcart.com/image/shoe/j/6/x/grey-6609-kielz-37-original-imae2na6fkfw5mgx.jpeg\"\n",
            " \"http://img6a.flixcart.com/image/shoe/j/6/x/grey-6609-kielz-37-original-imae2na6mzhu9pp5.jpeg\"\n",
            " \"http://img5a.flixcart.com/image/shoe/5/x/2/grey-6609-kielz-36-original-imae2na6xfmh9wsf.jpeg\"\n",
            " \"http://img6a.flixcart.com/image/shoe/j/6/x/grey-6609-kielz-37-original-imae2na6sgay4drg.jpeg\"\n",
            " \"http://img5a.flixcart.com/image/shoe/j/6/x/grey-6609-kielz-37-original-imae2na6caag9w3e.jpeg\"]\n",
            " \"http://img6a.flixcart.com/image/watch/e/j/g/wy16b-alfajr-original-imaecgzzfywury4r.jpeg\"\n",
            " \"http://img5a.flixcart.com/image/watch/e/j/g/wy16b-alfajr-original-imaecgzzxvz5ugyb.jpeg\"\n",
            " \"http://img6a.flixcart.com/image/watch/e/j/g/wy16b-alfajr-original-imaecgzzvqcuz4g4.jpeg\"\n",
            " \"http://img5a.flixcart.com/image/watch/e/j/g/wy16b-alfajr-original-imaecgzzzezdtfyj.jpeg\"]\n",
            " \"http://img6a.flixcart.com/image/shoe/e/7/n/black-5700-la-briza-39-original-imae2yxt9fx4nwtv.jpeg\"\n",
            " \"http://img5a.flixcart.com/image/shoe/e/7/n/black-5700-la-briza-39-original-imae2yxteknv2udk.jpeg\"\n",
            " \"http://img5a.flixcart.com/image/shoe/e/7/n/black-5700-la-briza-39-original-imae2yxt9upy6r8y.jpeg\"\n",
            " \"http://img6a.flixcart.com/image/shoe/e/7/n/black-5700-la-briza-36-original-imae2yxttnfprpzj.jpeg\"\n",
            " \"http://img6a.flixcart.com/image/shoe/e/7/n/black-5700-la-briza-39-original-imae2yxttgmjsnes.jpeg\"]\n",
            " \"http://img6a.flixcart.com/image/watch/d/j/c/cau1116-ba0858-tag-heuer-original-imaea6ksauss6efh.jpeg\"\n",
            " \"http://img5a.flixcart.com/image/watch/d/j/c/cau1116-ba0858-tag-heuer-original-imaea6ksmhygcfrz.jpeg\"\n",
            " \"http://img5a.flixcart.com/image/watch/d/j/c/cau1116-ba0858-tag-heuer-original-imaea6ksxgnbfkx8.jpeg\"\n",
            " \"http://img5a.flixcart.com/image/watch/d/j/c/cau1116-ba0858-tag-heuer-original-imaea7hcah6r6hcu.jpeg\"\n",
            " \"http://img5a.flixcart.com/image/watch/d/j/c/cau1116-ba0858-tag-heuer-original-imaea6ksyexzmywg.jpeg\"]\n",
            " \"http://img5a.flixcart.com/image/shoe/f/j/b/black-femme-2-salt-n-pepper-42-original-imae6dn8hfg3wans.jpeg\"\n",
            " \"http://img6a.flixcart.com/image/shoe/f/j/b/black-femme-2-salt-n-pepper-42-original-imae6dn86k6vhhmj.jpeg\"\n",
            " \"http://img5a.flixcart.com/image/shoe/f/j/b/black-femme-2-salt-n-pepper-42-original-imae6dn8fgfhxkkz.jpeg\"\n",
            " \"http://img6a.flixcart.com/image/shoe/f/j/b/black-femme-2-salt-n-pepper-42-original-imae6dn8zryzfjqm.jpeg\"\n",
            " \"http://img6a.flixcart.com/image/shoe/f/j/b/black-femme-2-salt-n-pepper-42-original-imae6dn8k7wvwbce.jpeg\"]\n",
            " \"http://img6a.flixcart.com/image/shoe/m/n/x/black-978-a03-shuz-touch-41-original-imaebjgrsv6warbh.jpeg\"\n",
            " \"http://img6a.flixcart.com/image/shoe/m/n/x/black-978-a03-shuz-touch-41-original-imaebjgrggj4ckqs.jpeg\"\n",
            " \"http://img6a.flixcart.com/image/shoe/m/n/x/black-978-a03-shuz-touch-41-original-imaebjgrwhxys3jw.jpeg\"\n",
            " \"http://img5a.flixcart.com/image/shoe/m/n/x/black-978-a03-shuz-touch-41-original-imaebjgrq4ep9tgc.jpeg\"\n",
            " \"http://img5a.flixcart.com/image/shoe/m/n/x/black-978-a03-shuz-touch-41-original-imaebjgrxcuxz9jz.jpeg\"]\n",
            " \"http://img6a.flixcart.com/image/jean/9/y/e/wrjn5625-wrangler-36-original-imaeb4z6cvtmpfyy.jpeg\"\n",
            " \"http://img6a.flixcart.com/image/jean/9/y/e/wrjn5625-wrangler-36-original-imaeb4z64zau3zrx.jpeg\"\n",
            " \"http://img5a.flixcart.com/image/jean/9/y/e/wrjn5625-wrangler-36-original-imaeb4z6xjchggz5.jpeg\"\n",
            " \"http://img5a.flixcart.com/image/jean/9/y/e/wrjn5625-wrangler-36-original-imaeb4z6nqj822mg.jpeg\"]\n",
            " \"http://img6a.flixcart.com/image/shoe/j/v/s/brown-509-6-steppings-37-original-imae3qcbyjzz94mh.jpeg\"\n",
            " \"http://img5a.flixcart.com/image/shoe/j/v/s/brown-509-6-steppings-41-original-imae3qcbjcvgn66b.jpeg\"\n",
            " \"http://img5a.flixcart.com/image/shoe/j/v/s/brown-509-6-steppings-36-original-imae3qcbbqy6c2hb.jpeg\"\n",
            " \"http://img6a.flixcart.com/image/shoe/j/v/s/brown-509-6-steppings-37-original-imae3qcbeacd4uzd.jpeg\"\n",
            " \"http://img5a.flixcart.com/image/shoe/j/v/s/brown-509-6-steppings-37-original-imae3qcbpva3ucwh.jpeg\"]\n",
            " \"http://img6a.flixcart.com/image/shoe/c/d/u/black-denny-salt-n-pepper-42-original-imae6dn9gsgpjxgf.jpeg\"\n",
            " \"http://img5a.flixcart.com/image/shoe/c/d/u/black-denny-salt-n-pepper-42-original-imae6dn9pyjwhxny.jpeg\"\n",
            " \"http://img6a.flixcart.com/image/shoe/c/d/u/black-denny-salt-n-pepper-42-original-imae6dn9ftenzg2b.jpeg\"\n",
            " \"http://img6a.flixcart.com/image/shoe/c/d/u/black-denny-salt-n-pepper-42-original-imae6dn9zhewqdtm.jpeg\"\n",
            " \"http://img5a.flixcart.com/image/shoe/c/d/u/black-denny-salt-n-pepper-42-original-imae6dn9s3qc325b.jpeg\"]\n",
            " \"http://img5a.flixcart.com/image/watch/8/e/y/cs-2001-costa-swiss-original-imaebuwvgfpdpbjq.jpeg\"\n"
          ],
          "name": "stdout"
        },
        {
          "output_type": "error",
          "ename": "KeyboardInterrupt",
          "evalue": "ignored",
          "traceback": [
            "\u001b[0;31m---------------------------------------------------------------------------\u001b[0m",
            "\u001b[0;31mKeyboardInterrupt\u001b[0m                         Traceback (most recent call last)",
            "\u001b[0;32m<ipython-input-1-2f404f0def17>\u001b[0m in \u001b[0;36m<module>\u001b[0;34m()\u001b[0m\n\u001b[1;32m     52\u001b[0m     \u001b[0;32mif\u001b[0m \u001b[0mresult\u001b[0m\u001b[0;34m.\u001b[0m\u001b[0mstatus_code\u001b[0m \u001b[0;34m==\u001b[0m \u001b[0;36m200\u001b[0m\u001b[0;34m:\u001b[0m\u001b[0;34m\u001b[0m\u001b[0;34m\u001b[0m\u001b[0m\n\u001b[1;32m     53\u001b[0m \u001b[0;34m\u001b[0m\u001b[0m\n\u001b[0;32m---> 54\u001b[0;31m       \u001b[0mimage\u001b[0m \u001b[0;34m=\u001b[0m \u001b[0mresult\u001b[0m\u001b[0;34m.\u001b[0m\u001b[0mraw\u001b[0m\u001b[0;34m.\u001b[0m\u001b[0mread\u001b[0m\u001b[0;34m(\u001b[0m\u001b[0;34m)\u001b[0m\u001b[0;34m\u001b[0m\u001b[0;34m\u001b[0m\u001b[0m\n\u001b[0m\u001b[1;32m     55\u001b[0m       \u001b[0mopen\u001b[0m\u001b[0;34m(\u001b[0m\u001b[0;34m'/content/drive/My Drive/Flipk/images {}.jpeg'\u001b[0m\u001b[0;34m.\u001b[0m\u001b[0mformat\u001b[0m\u001b[0;34m(\u001b[0m\u001b[0mi\u001b[0m\u001b[0;34m)\u001b[0m\u001b[0;34m,\u001b[0m\u001b[0;34m\"wb\"\u001b[0m\u001b[0;34m)\u001b[0m\u001b[0;34m.\u001b[0m\u001b[0mwrite\u001b[0m\u001b[0;34m(\u001b[0m\u001b[0mimage\u001b[0m\u001b[0;34m)\u001b[0m\u001b[0;34m\u001b[0m\u001b[0;34m\u001b[0m\u001b[0m\n\u001b[1;32m     56\u001b[0m \u001b[0;34m\u001b[0m\u001b[0m\n",
            "\u001b[0;32m/usr/local/lib/python3.6/dist-packages/urllib3/response.py\u001b[0m in \u001b[0;36mread\u001b[0;34m(self, amt, decode_content, cache_content)\u001b[0m\n\u001b[1;32m    438\u001b[0m             \u001b[0;32mif\u001b[0m \u001b[0mamt\u001b[0m \u001b[0;32mis\u001b[0m \u001b[0;32mNone\u001b[0m\u001b[0;34m:\u001b[0m\u001b[0;34m\u001b[0m\u001b[0;34m\u001b[0m\u001b[0m\n\u001b[1;32m    439\u001b[0m                 \u001b[0;31m# cStringIO doesn't like amt=None\u001b[0m\u001b[0;34m\u001b[0m\u001b[0;34m\u001b[0m\u001b[0;34m\u001b[0m\u001b[0m\n\u001b[0;32m--> 440\u001b[0;31m                 \u001b[0mdata\u001b[0m \u001b[0;34m=\u001b[0m \u001b[0mself\u001b[0m\u001b[0;34m.\u001b[0m\u001b[0m_fp\u001b[0m\u001b[0;34m.\u001b[0m\u001b[0mread\u001b[0m\u001b[0;34m(\u001b[0m\u001b[0;34m)\u001b[0m\u001b[0;34m\u001b[0m\u001b[0;34m\u001b[0m\u001b[0m\n\u001b[0m\u001b[1;32m    441\u001b[0m                 \u001b[0mflush_decoder\u001b[0m \u001b[0;34m=\u001b[0m \u001b[0;32mTrue\u001b[0m\u001b[0;34m\u001b[0m\u001b[0;34m\u001b[0m\u001b[0m\n\u001b[1;32m    442\u001b[0m             \u001b[0;32melse\u001b[0m\u001b[0;34m:\u001b[0m\u001b[0;34m\u001b[0m\u001b[0;34m\u001b[0m\u001b[0m\n",
            "\u001b[0;32m/usr/lib/python3.6/http/client.py\u001b[0m in \u001b[0;36mread\u001b[0;34m(self, amt)\u001b[0m\n\u001b[1;32m    474\u001b[0m             \u001b[0;32melse\u001b[0m\u001b[0;34m:\u001b[0m\u001b[0;34m\u001b[0m\u001b[0;34m\u001b[0m\u001b[0m\n\u001b[1;32m    475\u001b[0m                 \u001b[0;32mtry\u001b[0m\u001b[0;34m:\u001b[0m\u001b[0;34m\u001b[0m\u001b[0;34m\u001b[0m\u001b[0m\n\u001b[0;32m--> 476\u001b[0;31m                     \u001b[0ms\u001b[0m \u001b[0;34m=\u001b[0m \u001b[0mself\u001b[0m\u001b[0;34m.\u001b[0m\u001b[0m_safe_read\u001b[0m\u001b[0;34m(\u001b[0m\u001b[0mself\u001b[0m\u001b[0;34m.\u001b[0m\u001b[0mlength\u001b[0m\u001b[0;34m)\u001b[0m\u001b[0;34m\u001b[0m\u001b[0;34m\u001b[0m\u001b[0m\n\u001b[0m\u001b[1;32m    477\u001b[0m                 \u001b[0;32mexcept\u001b[0m \u001b[0mIncompleteRead\u001b[0m\u001b[0;34m:\u001b[0m\u001b[0;34m\u001b[0m\u001b[0;34m\u001b[0m\u001b[0m\n\u001b[1;32m    478\u001b[0m                     \u001b[0mself\u001b[0m\u001b[0;34m.\u001b[0m\u001b[0m_close_conn\u001b[0m\u001b[0;34m(\u001b[0m\u001b[0;34m)\u001b[0m\u001b[0;34m\u001b[0m\u001b[0;34m\u001b[0m\u001b[0m\n",
            "\u001b[0;32m/usr/lib/python3.6/http/client.py\u001b[0m in \u001b[0;36m_safe_read\u001b[0;34m(self, amt)\u001b[0m\n\u001b[1;32m    624\u001b[0m         \u001b[0ms\u001b[0m \u001b[0;34m=\u001b[0m \u001b[0;34m[\u001b[0m\u001b[0;34m]\u001b[0m\u001b[0;34m\u001b[0m\u001b[0;34m\u001b[0m\u001b[0m\n\u001b[1;32m    625\u001b[0m         \u001b[0;32mwhile\u001b[0m \u001b[0mamt\u001b[0m \u001b[0;34m>\u001b[0m \u001b[0;36m0\u001b[0m\u001b[0;34m:\u001b[0m\u001b[0;34m\u001b[0m\u001b[0;34m\u001b[0m\u001b[0m\n\u001b[0;32m--> 626\u001b[0;31m             \u001b[0mchunk\u001b[0m \u001b[0;34m=\u001b[0m \u001b[0mself\u001b[0m\u001b[0;34m.\u001b[0m\u001b[0mfp\u001b[0m\u001b[0;34m.\u001b[0m\u001b[0mread\u001b[0m\u001b[0;34m(\u001b[0m\u001b[0mmin\u001b[0m\u001b[0;34m(\u001b[0m\u001b[0mamt\u001b[0m\u001b[0;34m,\u001b[0m \u001b[0mMAXAMOUNT\u001b[0m\u001b[0;34m)\u001b[0m\u001b[0;34m)\u001b[0m\u001b[0;34m\u001b[0m\u001b[0;34m\u001b[0m\u001b[0m\n\u001b[0m\u001b[1;32m    627\u001b[0m             \u001b[0;32mif\u001b[0m \u001b[0;32mnot\u001b[0m \u001b[0mchunk\u001b[0m\u001b[0;34m:\u001b[0m\u001b[0;34m\u001b[0m\u001b[0;34m\u001b[0m\u001b[0m\n\u001b[1;32m    628\u001b[0m                 \u001b[0;32mraise\u001b[0m \u001b[0mIncompleteRead\u001b[0m\u001b[0;34m(\u001b[0m\u001b[0;34mb''\u001b[0m\u001b[0;34m.\u001b[0m\u001b[0mjoin\u001b[0m\u001b[0;34m(\u001b[0m\u001b[0ms\u001b[0m\u001b[0;34m)\u001b[0m\u001b[0;34m,\u001b[0m \u001b[0mamt\u001b[0m\u001b[0;34m)\u001b[0m\u001b[0;34m\u001b[0m\u001b[0;34m\u001b[0m\u001b[0m\n",
            "\u001b[0;32m/usr/lib/python3.6/socket.py\u001b[0m in \u001b[0;36mreadinto\u001b[0;34m(self, b)\u001b[0m\n\u001b[1;32m    584\u001b[0m         \u001b[0;32mwhile\u001b[0m \u001b[0;32mTrue\u001b[0m\u001b[0;34m:\u001b[0m\u001b[0;34m\u001b[0m\u001b[0;34m\u001b[0m\u001b[0m\n\u001b[1;32m    585\u001b[0m             \u001b[0;32mtry\u001b[0m\u001b[0;34m:\u001b[0m\u001b[0;34m\u001b[0m\u001b[0;34m\u001b[0m\u001b[0m\n\u001b[0;32m--> 586\u001b[0;31m                 \u001b[0;32mreturn\u001b[0m \u001b[0mself\u001b[0m\u001b[0;34m.\u001b[0m\u001b[0m_sock\u001b[0m\u001b[0;34m.\u001b[0m\u001b[0mrecv_into\u001b[0m\u001b[0;34m(\u001b[0m\u001b[0mb\u001b[0m\u001b[0;34m)\u001b[0m\u001b[0;34m\u001b[0m\u001b[0;34m\u001b[0m\u001b[0m\n\u001b[0m\u001b[1;32m    587\u001b[0m             \u001b[0;32mexcept\u001b[0m \u001b[0mtimeout\u001b[0m\u001b[0;34m:\u001b[0m\u001b[0;34m\u001b[0m\u001b[0;34m\u001b[0m\u001b[0m\n\u001b[1;32m    588\u001b[0m                 \u001b[0mself\u001b[0m\u001b[0;34m.\u001b[0m\u001b[0m_timeout_occurred\u001b[0m \u001b[0;34m=\u001b[0m \u001b[0;32mTrue\u001b[0m\u001b[0;34m\u001b[0m\u001b[0;34m\u001b[0m\u001b[0m\n",
            "\u001b[0;31mKeyboardInterrupt\u001b[0m: "
          ]
        }
      ]
    },
    {
      "cell_type": "markdown",
      "metadata": {
        "id": "748FaVICj6vu"
      },
      "source": [
        "kernel stopped forcefully due to lack of storage otherwise it works"
      ]
    },
    {
      "cell_type": "code",
      "metadata": {
        "id": "IAnW2Fcr625N"
      },
      "source": [
        ""
      ],
      "execution_count": null,
      "outputs": []
    },
    {
      "cell_type": "code",
      "metadata": {
        "id": "fc14RObO6wxL"
      },
      "source": [
        ""
      ],
      "execution_count": null,
      "outputs": []
    },
    {
      "cell_type": "code",
      "metadata": {
        "colab": {
          "base_uri": "https://localhost:8080/",
          "height": 467
        },
        "id": "_ZxDv4hKxOdp",
        "outputId": "c603a890-ada9-48a6-91ae-567c4443936b"
      },
      "source": [
        "data.head()"
      ],
      "execution_count": null,
      "outputs": [
        {
          "output_type": "execute_result",
          "data": {
            "text/html": [
              "<div>\n",
              "<style scoped>\n",
              "    .dataframe tbody tr th:only-of-type {\n",
              "        vertical-align: middle;\n",
              "    }\n",
              "\n",
              "    .dataframe tbody tr th {\n",
              "        vertical-align: top;\n",
              "    }\n",
              "\n",
              "    .dataframe thead th {\n",
              "        text-align: right;\n",
              "    }\n",
              "</style>\n",
              "<table border=\"1\" class=\"dataframe\">\n",
              "  <thead>\n",
              "    <tr style=\"text-align: right;\">\n",
              "      <th></th>\n",
              "      <th>uniq_id</th>\n",
              "      <th>crawl_timestamp</th>\n",
              "      <th>product_url</th>\n",
              "      <th>product_name</th>\n",
              "      <th>product_category_tree</th>\n",
              "      <th>pid</th>\n",
              "      <th>retail_price</th>\n",
              "      <th>discounted_price</th>\n",
              "      <th>image</th>\n",
              "      <th>is_FK_Advantage_product</th>\n",
              "      <th>description</th>\n",
              "      <th>product_rating</th>\n",
              "      <th>overall_rating</th>\n",
              "      <th>brand</th>\n",
              "      <th>product_specifications</th>\n",
              "    </tr>\n",
              "  </thead>\n",
              "  <tbody>\n",
              "    <tr>\n",
              "      <th>0</th>\n",
              "      <td>c2d766ca982eca8304150849735ffef9</td>\n",
              "      <td>2016-03-25 22:59:23 +0000</td>\n",
              "      <td>http://www.flipkart.com/alisha-solid-women-s-c...</td>\n",
              "      <td>Alisha Solid Women's Cycling Shorts</td>\n",
              "      <td>[\"Clothing &gt;&gt; Women's Clothing &gt;&gt; Lingerie, Sl...</td>\n",
              "      <td>SRTEH2FF9KEDEFGF</td>\n",
              "      <td>999.0</td>\n",
              "      <td>379.0</td>\n",
              "      <td>[\"http://img5a.flixcart.com/image/short/u/4/a/...</td>\n",
              "      <td>False</td>\n",
              "      <td>Key Features of Alisha Solid Women's Cycling S...</td>\n",
              "      <td>No rating available</td>\n",
              "      <td>No rating available</td>\n",
              "      <td>Alisha</td>\n",
              "      <td>{\"product_specification\"=&gt;[{\"key\"=&gt;\"Number of ...</td>\n",
              "    </tr>\n",
              "    <tr>\n",
              "      <th>1</th>\n",
              "      <td>7f7036a6d550aaa89d34c77bd39a5e48</td>\n",
              "      <td>2016-03-25 22:59:23 +0000</td>\n",
              "      <td>http://www.flipkart.com/fabhomedecor-fabric-do...</td>\n",
              "      <td>FabHomeDecor Fabric Double Sofa Bed</td>\n",
              "      <td>[\"Furniture &gt;&gt; Living Room Furniture &gt;&gt; Sofa B...</td>\n",
              "      <td>SBEEH3QGU7MFYJFY</td>\n",
              "      <td>32157.0</td>\n",
              "      <td>22646.0</td>\n",
              "      <td>[\"http://img6a.flixcart.com/image/sofa-bed/j/f...</td>\n",
              "      <td>False</td>\n",
              "      <td>FabHomeDecor Fabric Double Sofa Bed (Finish Co...</td>\n",
              "      <td>No rating available</td>\n",
              "      <td>No rating available</td>\n",
              "      <td>FabHomeDecor</td>\n",
              "      <td>{\"product_specification\"=&gt;[{\"key\"=&gt;\"Installati...</td>\n",
              "    </tr>\n",
              "    <tr>\n",
              "      <th>2</th>\n",
              "      <td>f449ec65dcbc041b6ae5e6a32717d01b</td>\n",
              "      <td>2016-03-25 22:59:23 +0000</td>\n",
              "      <td>http://www.flipkart.com/aw-bellies/p/itmeh4grg...</td>\n",
              "      <td>AW Bellies</td>\n",
              "      <td>[\"Footwear &gt;&gt; Women's Footwear &gt;&gt; Ballerinas &gt;...</td>\n",
              "      <td>SHOEH4GRSUBJGZXE</td>\n",
              "      <td>999.0</td>\n",
              "      <td>499.0</td>\n",
              "      <td>[\"http://img5a.flixcart.com/image/shoe/7/z/z/r...</td>\n",
              "      <td>False</td>\n",
              "      <td>Key Features of AW Bellies Sandals Wedges Heel...</td>\n",
              "      <td>No rating available</td>\n",
              "      <td>No rating available</td>\n",
              "      <td>AW</td>\n",
              "      <td>{\"product_specification\"=&gt;[{\"key\"=&gt;\"Ideal For\"...</td>\n",
              "    </tr>\n",
              "    <tr>\n",
              "      <th>3</th>\n",
              "      <td>0973b37acd0c664e3de26e97e5571454</td>\n",
              "      <td>2016-03-25 22:59:23 +0000</td>\n",
              "      <td>http://www.flipkart.com/alisha-solid-women-s-c...</td>\n",
              "      <td>Alisha Solid Women's Cycling Shorts</td>\n",
              "      <td>[\"Clothing &gt;&gt; Women's Clothing &gt;&gt; Lingerie, Sl...</td>\n",
              "      <td>SRTEH2F6HUZMQ6SJ</td>\n",
              "      <td>699.0</td>\n",
              "      <td>267.0</td>\n",
              "      <td>[\"http://img5a.flixcart.com/image/short/6/2/h/...</td>\n",
              "      <td>False</td>\n",
              "      <td>Key Features of Alisha Solid Women's Cycling S...</td>\n",
              "      <td>No rating available</td>\n",
              "      <td>No rating available</td>\n",
              "      <td>Alisha</td>\n",
              "      <td>{\"product_specification\"=&gt;[{\"key\"=&gt;\"Number of ...</td>\n",
              "    </tr>\n",
              "    <tr>\n",
              "      <th>4</th>\n",
              "      <td>bc940ea42ee6bef5ac7cea3fb5cfbee7</td>\n",
              "      <td>2016-03-25 22:59:23 +0000</td>\n",
              "      <td>http://www.flipkart.com/sicons-all-purpose-arn...</td>\n",
              "      <td>Sicons All Purpose Arnica Dog Shampoo</td>\n",
              "      <td>[\"Pet Supplies &gt;&gt; Grooming &gt;&gt; Skin &amp; Coat Care...</td>\n",
              "      <td>PSOEH3ZYDMSYARJ5</td>\n",
              "      <td>220.0</td>\n",
              "      <td>210.0</td>\n",
              "      <td>[\"http://img5a.flixcart.com/image/pet-shampoo/...</td>\n",
              "      <td>False</td>\n",
              "      <td>Specifications of Sicons All Purpose Arnica Do...</td>\n",
              "      <td>No rating available</td>\n",
              "      <td>No rating available</td>\n",
              "      <td>Sicons</td>\n",
              "      <td>{\"product_specification\"=&gt;[{\"key\"=&gt;\"Pet Type\",...</td>\n",
              "    </tr>\n",
              "  </tbody>\n",
              "</table>\n",
              "</div>"
            ],
            "text/plain": [
              "                            uniq_id  ...                             product_specifications\n",
              "0  c2d766ca982eca8304150849735ffef9  ...  {\"product_specification\"=>[{\"key\"=>\"Number of ...\n",
              "1  7f7036a6d550aaa89d34c77bd39a5e48  ...  {\"product_specification\"=>[{\"key\"=>\"Installati...\n",
              "2  f449ec65dcbc041b6ae5e6a32717d01b  ...  {\"product_specification\"=>[{\"key\"=>\"Ideal For\"...\n",
              "3  0973b37acd0c664e3de26e97e5571454  ...  {\"product_specification\"=>[{\"key\"=>\"Number of ...\n",
              "4  bc940ea42ee6bef5ac7cea3fb5cfbee7  ...  {\"product_specification\"=>[{\"key\"=>\"Pet Type\",...\n",
              "\n",
              "[5 rows x 15 columns]"
            ]
          },
          "metadata": {
            "tags": []
          },
          "execution_count": 4
        }
      ]
    },
    {
      "cell_type": "code",
      "metadata": {
        "colab": {
          "base_uri": "https://localhost:8080/"
        },
        "id": "HJBQ6cKfxQb1",
        "outputId": "fd8fef7d-28dc-4afd-be3e-e529d8e3abd1"
      },
      "source": [
        "\r\n",
        "from keras.preprocessing.text import Tokenizer\r\n",
        "from gensim.models.fasttext import FastText\r\n",
        "import numpy as np\r\n",
        "import matplotlib.pyplot as plt\r\n",
        "import nltk\r\n",
        "from string import punctuation\r\n",
        "from nltk.tokenize import word_tokenize\r\n",
        "from nltk.stem import WordNetLemmatizer\r\n",
        "from nltk.tokenize import sent_tokenize\r\n",
        "from nltk import WordPunctTokenizer\r\n",
        "\r\n",
        "#import wikipedia\r\n",
        "import nltk\r\n",
        "nltk.download('punkt')\r\n",
        "nltk.download('wordnet')\r\n",
        "nltk.download('stopwords')\r\n",
        "en_stop = set(nltk.corpus.stopwords.words('english'))\r\n",
        "\r\n",
        "%matplotlib inline"
      ],
      "execution_count": null,
      "outputs": [
        {
          "output_type": "stream",
          "text": [
            "[nltk_data] Downloading package punkt to /root/nltk_data...\n",
            "[nltk_data]   Unzipping tokenizers/punkt.zip.\n",
            "[nltk_data] Downloading package wordnet to /root/nltk_data...\n",
            "[nltk_data]   Unzipping corpora/wordnet.zip.\n",
            "[nltk_data] Downloading package stopwords to /root/nltk_data...\n",
            "[nltk_data]   Unzipping corpora/stopwords.zip.\n"
          ],
          "name": "stdout"
        }
      ]
    },
    {
      "cell_type": "code",
      "metadata": {
        "colab": {
          "base_uri": "https://localhost:8080/",
          "height": 195
        },
        "id": "Br-LO_rszfIO",
        "outputId": "e631bce7-b026-4adf-b77b-3c1c6f47768d"
      },
      "source": [
        "df = data[['product_name', 'product_category_tree', 'description']]\r\n",
        "df.head()"
      ],
      "execution_count": null,
      "outputs": [
        {
          "output_type": "execute_result",
          "data": {
            "text/html": [
              "<div>\n",
              "<style scoped>\n",
              "    .dataframe tbody tr th:only-of-type {\n",
              "        vertical-align: middle;\n",
              "    }\n",
              "\n",
              "    .dataframe tbody tr th {\n",
              "        vertical-align: top;\n",
              "    }\n",
              "\n",
              "    .dataframe thead th {\n",
              "        text-align: right;\n",
              "    }\n",
              "</style>\n",
              "<table border=\"1\" class=\"dataframe\">\n",
              "  <thead>\n",
              "    <tr style=\"text-align: right;\">\n",
              "      <th></th>\n",
              "      <th>product_name</th>\n",
              "      <th>product_category_tree</th>\n",
              "      <th>description</th>\n",
              "    </tr>\n",
              "  </thead>\n",
              "  <tbody>\n",
              "    <tr>\n",
              "      <th>0</th>\n",
              "      <td>Alisha Solid Women's Cycling Shorts</td>\n",
              "      <td>[\"Clothing &gt;&gt; Women's Clothing &gt;&gt; Lingerie, Sl...</td>\n",
              "      <td>Key Features of Alisha Solid Women's Cycling S...</td>\n",
              "    </tr>\n",
              "    <tr>\n",
              "      <th>1</th>\n",
              "      <td>FabHomeDecor Fabric Double Sofa Bed</td>\n",
              "      <td>[\"Furniture &gt;&gt; Living Room Furniture &gt;&gt; Sofa B...</td>\n",
              "      <td>FabHomeDecor Fabric Double Sofa Bed (Finish Co...</td>\n",
              "    </tr>\n",
              "    <tr>\n",
              "      <th>2</th>\n",
              "      <td>AW Bellies</td>\n",
              "      <td>[\"Footwear &gt;&gt; Women's Footwear &gt;&gt; Ballerinas &gt;...</td>\n",
              "      <td>Key Features of AW Bellies Sandals Wedges Heel...</td>\n",
              "    </tr>\n",
              "    <tr>\n",
              "      <th>3</th>\n",
              "      <td>Alisha Solid Women's Cycling Shorts</td>\n",
              "      <td>[\"Clothing &gt;&gt; Women's Clothing &gt;&gt; Lingerie, Sl...</td>\n",
              "      <td>Key Features of Alisha Solid Women's Cycling S...</td>\n",
              "    </tr>\n",
              "    <tr>\n",
              "      <th>4</th>\n",
              "      <td>Sicons All Purpose Arnica Dog Shampoo</td>\n",
              "      <td>[\"Pet Supplies &gt;&gt; Grooming &gt;&gt; Skin &amp; Coat Care...</td>\n",
              "      <td>Specifications of Sicons All Purpose Arnica Do...</td>\n",
              "    </tr>\n",
              "  </tbody>\n",
              "</table>\n",
              "</div>"
            ],
            "text/plain": [
              "                            product_name  ...                                        description\n",
              "0    Alisha Solid Women's Cycling Shorts  ...  Key Features of Alisha Solid Women's Cycling S...\n",
              "1    FabHomeDecor Fabric Double Sofa Bed  ...  FabHomeDecor Fabric Double Sofa Bed (Finish Co...\n",
              "2                             AW Bellies  ...  Key Features of AW Bellies Sandals Wedges Heel...\n",
              "3    Alisha Solid Women's Cycling Shorts  ...  Key Features of Alisha Solid Women's Cycling S...\n",
              "4  Sicons All Purpose Arnica Dog Shampoo  ...  Specifications of Sicons All Purpose Arnica Do...\n",
              "\n",
              "[5 rows x 3 columns]"
            ]
          },
          "metadata": {
            "tags": []
          },
          "execution_count": 7
        }
      ]
    },
    {
      "cell_type": "code",
      "metadata": {
        "id": "-ysXHWq0zqzM"
      },
      "source": [
        "import re\r\n",
        "from nltk.stem import WordNetLemmatizer\r\n",
        "\r\n",
        "stemmer = WordNetLemmatizer()\r\n",
        "\r\n",
        "def preprocess_text(document):\r\n",
        "        # Remove all the special characters\r\n",
        "        document = re.sub(r'\\W', ' ', str(document))\r\n",
        "\r\n",
        "        # remove all single characters\r\n",
        "        document = re.sub(r'\\s+[a-zA-Z]\\s+', ' ', document)\r\n",
        "\r\n",
        "        # Remove single characters from the start\r\n",
        "        document = re.sub(r'\\^[a-zA-Z]\\s+', ' ', document)\r\n",
        "\r\n",
        "        # Substituting multiple spaces with single space\r\n",
        "        document = re.sub(r'\\s+', ' ', document, flags=re.I)\r\n",
        "\r\n",
        "        # Removing prefixed 'b'\r\n",
        "        document = re.sub(r'^b\\s+', '', document)\r\n",
        "\r\n",
        "        # Converting to Lowercase\r\n",
        "        document = document.lower()\r\n",
        "\r\n",
        "        # Lemmatization\r\n",
        "        tokens = document.split()\r\n",
        "        tokens = [stemmer.lemmatize(word) for word in tokens]\r\n",
        "        tokens = [word for word in tokens if word not in en_stop]\r\n",
        "        tokens = [word for word in tokens if len(word) > 3]\r\n",
        "\r\n",
        "        preprocessed_text = ' '.join(tokens)\r\n",
        "\r\n",
        "        return preprocessed_text\r\n"
      ],
      "execution_count": null,
      "outputs": []
    },
    {
      "cell_type": "code",
      "metadata": {
        "id": "C3Ng-LH60c0B"
      },
      "source": [
        "df1 = df.copy()"
      ],
      "execution_count": null,
      "outputs": []
    },
    {
      "cell_type": "code",
      "metadata": {
        "colab": {
          "base_uri": "https://localhost:8080/",
          "height": 195
        },
        "id": "t5jHRI5J0gyI",
        "outputId": "5be27f3f-9b13-484c-98b6-5dc91b6cd2b6"
      },
      "source": [
        "df1.head()"
      ],
      "execution_count": null,
      "outputs": [
        {
          "output_type": "execute_result",
          "data": {
            "text/html": [
              "<div>\n",
              "<style scoped>\n",
              "    .dataframe tbody tr th:only-of-type {\n",
              "        vertical-align: middle;\n",
              "    }\n",
              "\n",
              "    .dataframe tbody tr th {\n",
              "        vertical-align: top;\n",
              "    }\n",
              "\n",
              "    .dataframe thead th {\n",
              "        text-align: right;\n",
              "    }\n",
              "</style>\n",
              "<table border=\"1\" class=\"dataframe\">\n",
              "  <thead>\n",
              "    <tr style=\"text-align: right;\">\n",
              "      <th></th>\n",
              "      <th>product_name</th>\n",
              "      <th>product_category_tree</th>\n",
              "      <th>description</th>\n",
              "    </tr>\n",
              "  </thead>\n",
              "  <tbody>\n",
              "    <tr>\n",
              "      <th>0</th>\n",
              "      <td>Alisha Solid Women's Cycling Shorts</td>\n",
              "      <td>[\"Clothing &gt;&gt; Women's Clothing &gt;&gt; Lingerie, Sl...</td>\n",
              "      <td>Key Features of Alisha Solid Women's Cycling S...</td>\n",
              "    </tr>\n",
              "    <tr>\n",
              "      <th>1</th>\n",
              "      <td>FabHomeDecor Fabric Double Sofa Bed</td>\n",
              "      <td>[\"Furniture &gt;&gt; Living Room Furniture &gt;&gt; Sofa B...</td>\n",
              "      <td>FabHomeDecor Fabric Double Sofa Bed (Finish Co...</td>\n",
              "    </tr>\n",
              "    <tr>\n",
              "      <th>2</th>\n",
              "      <td>AW Bellies</td>\n",
              "      <td>[\"Footwear &gt;&gt; Women's Footwear &gt;&gt; Ballerinas &gt;...</td>\n",
              "      <td>Key Features of AW Bellies Sandals Wedges Heel...</td>\n",
              "    </tr>\n",
              "    <tr>\n",
              "      <th>3</th>\n",
              "      <td>Alisha Solid Women's Cycling Shorts</td>\n",
              "      <td>[\"Clothing &gt;&gt; Women's Clothing &gt;&gt; Lingerie, Sl...</td>\n",
              "      <td>Key Features of Alisha Solid Women's Cycling S...</td>\n",
              "    </tr>\n",
              "    <tr>\n",
              "      <th>4</th>\n",
              "      <td>Sicons All Purpose Arnica Dog Shampoo</td>\n",
              "      <td>[\"Pet Supplies &gt;&gt; Grooming &gt;&gt; Skin &amp; Coat Care...</td>\n",
              "      <td>Specifications of Sicons All Purpose Arnica Do...</td>\n",
              "    </tr>\n",
              "  </tbody>\n",
              "</table>\n",
              "</div>"
            ],
            "text/plain": [
              "                            product_name  ...                                        description\n",
              "0    Alisha Solid Women's Cycling Shorts  ...  Key Features of Alisha Solid Women's Cycling S...\n",
              "1    FabHomeDecor Fabric Double Sofa Bed  ...  FabHomeDecor Fabric Double Sofa Bed (Finish Co...\n",
              "2                             AW Bellies  ...  Key Features of AW Bellies Sandals Wedges Heel...\n",
              "3    Alisha Solid Women's Cycling Shorts  ...  Key Features of Alisha Solid Women's Cycling S...\n",
              "4  Sicons All Purpose Arnica Dog Shampoo  ...  Specifications of Sicons All Purpose Arnica Do...\n",
              "\n",
              "[5 rows x 3 columns]"
            ]
          },
          "metadata": {
            "tags": []
          },
          "execution_count": 10
        }
      ]
    },
    {
      "cell_type": "code",
      "metadata": {
        "colab": {
          "base_uri": "https://localhost:8080/",
          "height": 195
        },
        "id": "S3osv_SS0iIM",
        "outputId": "7c4f6a17-5025-4e9c-c905-c93bf551a302"
      },
      "source": [
        "df1['new'] = df1['product_name'] + ' ' + df1['product_category_tree'] + ' ' + df1['description']\r\n",
        "df1.head()"
      ],
      "execution_count": null,
      "outputs": [
        {
          "output_type": "execute_result",
          "data": {
            "text/html": [
              "<div>\n",
              "<style scoped>\n",
              "    .dataframe tbody tr th:only-of-type {\n",
              "        vertical-align: middle;\n",
              "    }\n",
              "\n",
              "    .dataframe tbody tr th {\n",
              "        vertical-align: top;\n",
              "    }\n",
              "\n",
              "    .dataframe thead th {\n",
              "        text-align: right;\n",
              "    }\n",
              "</style>\n",
              "<table border=\"1\" class=\"dataframe\">\n",
              "  <thead>\n",
              "    <tr style=\"text-align: right;\">\n",
              "      <th></th>\n",
              "      <th>product_name</th>\n",
              "      <th>product_category_tree</th>\n",
              "      <th>description</th>\n",
              "      <th>new</th>\n",
              "    </tr>\n",
              "  </thead>\n",
              "  <tbody>\n",
              "    <tr>\n",
              "      <th>0</th>\n",
              "      <td>Alisha Solid Women's Cycling Shorts</td>\n",
              "      <td>[\"Clothing &gt;&gt; Women's Clothing &gt;&gt; Lingerie, Sl...</td>\n",
              "      <td>Key Features of Alisha Solid Women's Cycling S...</td>\n",
              "      <td>Alisha Solid Women's Cycling Shorts [\"Clothing...</td>\n",
              "    </tr>\n",
              "    <tr>\n",
              "      <th>1</th>\n",
              "      <td>FabHomeDecor Fabric Double Sofa Bed</td>\n",
              "      <td>[\"Furniture &gt;&gt; Living Room Furniture &gt;&gt; Sofa B...</td>\n",
              "      <td>FabHomeDecor Fabric Double Sofa Bed (Finish Co...</td>\n",
              "      <td>FabHomeDecor Fabric Double Sofa Bed [\"Furnitur...</td>\n",
              "    </tr>\n",
              "    <tr>\n",
              "      <th>2</th>\n",
              "      <td>AW Bellies</td>\n",
              "      <td>[\"Footwear &gt;&gt; Women's Footwear &gt;&gt; Ballerinas &gt;...</td>\n",
              "      <td>Key Features of AW Bellies Sandals Wedges Heel...</td>\n",
              "      <td>AW Bellies [\"Footwear &gt;&gt; Women's Footwear &gt;&gt; B...</td>\n",
              "    </tr>\n",
              "    <tr>\n",
              "      <th>3</th>\n",
              "      <td>Alisha Solid Women's Cycling Shorts</td>\n",
              "      <td>[\"Clothing &gt;&gt; Women's Clothing &gt;&gt; Lingerie, Sl...</td>\n",
              "      <td>Key Features of Alisha Solid Women's Cycling S...</td>\n",
              "      <td>Alisha Solid Women's Cycling Shorts [\"Clothing...</td>\n",
              "    </tr>\n",
              "    <tr>\n",
              "      <th>4</th>\n",
              "      <td>Sicons All Purpose Arnica Dog Shampoo</td>\n",
              "      <td>[\"Pet Supplies &gt;&gt; Grooming &gt;&gt; Skin &amp; Coat Care...</td>\n",
              "      <td>Specifications of Sicons All Purpose Arnica Do...</td>\n",
              "      <td>Sicons All Purpose Arnica Dog Shampoo [\"Pet Su...</td>\n",
              "    </tr>\n",
              "  </tbody>\n",
              "</table>\n",
              "</div>"
            ],
            "text/plain": [
              "                            product_name  ...                                                new\n",
              "0    Alisha Solid Women's Cycling Shorts  ...  Alisha Solid Women's Cycling Shorts [\"Clothing...\n",
              "1    FabHomeDecor Fabric Double Sofa Bed  ...  FabHomeDecor Fabric Double Sofa Bed [\"Furnitur...\n",
              "2                             AW Bellies  ...  AW Bellies [\"Footwear >> Women's Footwear >> B...\n",
              "3    Alisha Solid Women's Cycling Shorts  ...  Alisha Solid Women's Cycling Shorts [\"Clothing...\n",
              "4  Sicons All Purpose Arnica Dog Shampoo  ...  Sicons All Purpose Arnica Dog Shampoo [\"Pet Su...\n",
              "\n",
              "[5 rows x 4 columns]"
            ]
          },
          "metadata": {
            "tags": []
          },
          "execution_count": 11
        }
      ]
    },
    {
      "cell_type": "code",
      "metadata": {
        "colab": {
          "base_uri": "https://localhost:8080/",
          "height": 69
        },
        "id": "pqRdb9hj0uXh",
        "outputId": "d2539d33-6cb4-4390-a1b3-33220c019c46"
      },
      "source": [
        "final_corpus = [preprocess_text(sentence) for sentence in df1['new'] if str(sentence).strip() !='']\r\n",
        "final_corpus[0]"
      ],
      "execution_count": null,
      "outputs": [
        {
          "output_type": "execute_result",
          "data": {
            "application/vnd.google.colaboratory.intrinsic+json": {
              "type": "string"
            },
            "text/plain": [
              "'alisha solid woman cycling short clothing woman clothing lingerie sleep swimwear short alisha short alisha solid woman cycling short feature alisha solid woman cycling short cotton lycra navy navy specification alisha solid woman cycling short short detail number content sale package pack fabric cotton lycra type cycling short general detail pattern solid ideal woman fabric care gentle machine wash lukewarm water bleach additional detail style code altht_3p_21 short'"
            ]
          },
          "metadata": {
            "tags": []
          },
          "execution_count": 12
        }
      ]
    },
    {
      "cell_type": "code",
      "metadata": {
        "colab": {
          "base_uri": "https://localhost:8080/"
        },
        "id": "gicrzy0f02xw",
        "outputId": "4a3af090-d906-4748-b328-a783bee9ca30"
      },
      "source": [
        "word_punctuation_tokenizer = nltk.WordPunctTokenizer()\r\n",
        "word_tokenized_corpus = [word_punctuation_tokenizer.tokenize(sent) for sent in final_corpus]\r\n",
        "word_tokenized_corpus[0]"
      ],
      "execution_count": null,
      "outputs": [
        {
          "output_type": "execute_result",
          "data": {
            "text/plain": [
              "['alisha',\n",
              " 'solid',\n",
              " 'woman',\n",
              " 'cycling',\n",
              " 'short',\n",
              " 'clothing',\n",
              " 'woman',\n",
              " 'clothing',\n",
              " 'lingerie',\n",
              " 'sleep',\n",
              " 'swimwear',\n",
              " 'short',\n",
              " 'alisha',\n",
              " 'short',\n",
              " 'alisha',\n",
              " 'solid',\n",
              " 'woman',\n",
              " 'cycling',\n",
              " 'short',\n",
              " 'feature',\n",
              " 'alisha',\n",
              " 'solid',\n",
              " 'woman',\n",
              " 'cycling',\n",
              " 'short',\n",
              " 'cotton',\n",
              " 'lycra',\n",
              " 'navy',\n",
              " 'navy',\n",
              " 'specification',\n",
              " 'alisha',\n",
              " 'solid',\n",
              " 'woman',\n",
              " 'cycling',\n",
              " 'short',\n",
              " 'short',\n",
              " 'detail',\n",
              " 'number',\n",
              " 'content',\n",
              " 'sale',\n",
              " 'package',\n",
              " 'pack',\n",
              " 'fabric',\n",
              " 'cotton',\n",
              " 'lycra',\n",
              " 'type',\n",
              " 'cycling',\n",
              " 'short',\n",
              " 'general',\n",
              " 'detail',\n",
              " 'pattern',\n",
              " 'solid',\n",
              " 'ideal',\n",
              " 'woman',\n",
              " 'fabric',\n",
              " 'care',\n",
              " 'gentle',\n",
              " 'machine',\n",
              " 'wash',\n",
              " 'lukewarm',\n",
              " 'water',\n",
              " 'bleach',\n",
              " 'additional',\n",
              " 'detail',\n",
              " 'style',\n",
              " 'code',\n",
              " 'altht_3p_21',\n",
              " 'short']"
            ]
          },
          "metadata": {
            "tags": []
          },
          "execution_count": 13
        }
      ]
    },
    {
      "cell_type": "code",
      "metadata": {
        "id": "YMXOPqEM1AL7"
      },
      "source": [
        ""
      ],
      "execution_count": null,
      "outputs": []
    }
  ]
}